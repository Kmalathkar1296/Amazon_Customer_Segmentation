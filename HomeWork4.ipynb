{
 "cells": [
  {
   "cell_type": "code",
   "execution_count": 1,
   "id": "d1500a09",
   "metadata": {},
   "outputs": [],
   "source": [
    "# Import basic libraries\n",
    "\n",
    "import pandas as pd\n",
    "import numpy as np\n",
    "%matplotlib inline\n",
    "import matplotlib.pyplot as plt"
   ]
  },
  {
   "cell_type": "code",
   "execution_count": 2,
   "id": "d427e784",
   "metadata": {},
   "outputs": [
    {
     "name": "stderr",
     "output_type": "stream",
     "text": [
      "2023-11-29 21:27:26.784728: I tensorflow/core/platform/cpu_feature_guard.cc:193] This TensorFlow binary is optimized with oneAPI Deep Neural Network Library (oneDNN) to use the following CPU instructions in performance-critical operations:  AVX2 FMA\n",
      "To enable them in other operations, rebuild TensorFlow with the appropriate compiler flags.\n",
      "2023-11-29 21:27:26.955576: W tensorflow/compiler/xla/stream_executor/platform/default/dso_loader.cc:64] Could not load dynamic library 'libcudart.so.11.0'; dlerror: libcudart.so.11.0: cannot open shared object file: No such file or directory\n",
      "2023-11-29 21:27:26.955628: I tensorflow/compiler/xla/stream_executor/cuda/cudart_stub.cc:29] Ignore above cudart dlerror if you do not have a GPU set up on your machine.\n",
      "2023-11-29 21:27:27.935236: W tensorflow/compiler/xla/stream_executor/platform/default/dso_loader.cc:64] Could not load dynamic library 'libnvinfer.so.7'; dlerror: libnvinfer.so.7: cannot open shared object file: No such file or directory\n",
      "2023-11-29 21:27:27.935339: W tensorflow/compiler/xla/stream_executor/platform/default/dso_loader.cc:64] Could not load dynamic library 'libnvinfer_plugin.so.7'; dlerror: libnvinfer_plugin.so.7: cannot open shared object file: No such file or directory\n",
      "2023-11-29 21:27:27.935351: W tensorflow/compiler/tf2tensorrt/utils/py_utils.cc:38] TF-TRT Warning: Cannot dlopen some TensorRT libraries. If you would like to use Nvidia GPU with TensorRT, please make sure the missing libraries mentioned above are installed properly.\n"
     ]
    }
   ],
   "source": [
    "# For timeseries RNN LSTM neural network\n",
    "\n",
    "from tensorflow.keras.models import Sequential\n",
    "from tensorflow.keras.layers import LSTM\n",
    "from tensorflow.keras.layers import Dropout\n",
    "from tensorflow.keras.layers import Dense"
   ]
  },
  {
   "cell_type": "code",
   "execution_count": 3,
   "id": "794d8daa",
   "metadata": {},
   "outputs": [],
   "source": [
    "# Import Kera:TimeSeriesGenerator\n",
    "\n",
    "from tensorflow.keras.preprocessing.sequence import TimeseriesGenerator\n",
    "\n",
    "# Import Keras:MinMax Scalar\n",
    "\n",
    "from sklearn.preprocessing import MinMaxScaler"
   ]
  },
  {
   "cell_type": "code",
   "execution_count": 4,
   "id": "c2e530a4",
   "metadata": {},
   "outputs": [],
   "source": [
    "dir_path_dataset_1 = 'DATA/AAPL_STOCK_20140101_20190630.csv'"
   ]
  },
  {
   "cell_type": "markdown",
   "id": "e632c535",
   "metadata": {},
   "source": [
    "### Load Data"
   ]
  },
  {
   "cell_type": "code",
   "execution_count": 5,
   "id": "1fd13730",
   "metadata": {},
   "outputs": [
    {
     "data": {
      "text/html": [
       "<div>\n",
       "<style scoped>\n",
       "    .dataframe tbody tr th:only-of-type {\n",
       "        vertical-align: middle;\n",
       "    }\n",
       "\n",
       "    .dataframe tbody tr th {\n",
       "        vertical-align: top;\n",
       "    }\n",
       "\n",
       "    .dataframe thead th {\n",
       "        text-align: right;\n",
       "    }\n",
       "</style>\n",
       "<table border=\"1\" class=\"dataframe\">\n",
       "  <thead>\n",
       "    <tr style=\"text-align: right;\">\n",
       "      <th></th>\n",
       "      <th>Date</th>\n",
       "      <th>Open</th>\n",
       "      <th>High</th>\n",
       "      <th>Low</th>\n",
       "      <th>Close</th>\n",
       "      <th>Adj Close</th>\n",
       "      <th>Volume</th>\n",
       "    </tr>\n",
       "  </thead>\n",
       "  <tbody>\n",
       "    <tr>\n",
       "      <th>0</th>\n",
       "      <td>2014-01-02</td>\n",
       "      <td>19.845715</td>\n",
       "      <td>19.893929</td>\n",
       "      <td>19.715000</td>\n",
       "      <td>19.754642</td>\n",
       "      <td>17.318729</td>\n",
       "      <td>234684800</td>\n",
       "    </tr>\n",
       "    <tr>\n",
       "      <th>1</th>\n",
       "      <td>2014-01-03</td>\n",
       "      <td>19.745001</td>\n",
       "      <td>19.775000</td>\n",
       "      <td>19.301071</td>\n",
       "      <td>19.320715</td>\n",
       "      <td>16.938305</td>\n",
       "      <td>392467600</td>\n",
       "    </tr>\n",
       "    <tr>\n",
       "      <th>2</th>\n",
       "      <td>2014-01-06</td>\n",
       "      <td>19.194643</td>\n",
       "      <td>19.528570</td>\n",
       "      <td>19.057142</td>\n",
       "      <td>19.426071</td>\n",
       "      <td>17.030672</td>\n",
       "      <td>412610800</td>\n",
       "    </tr>\n",
       "    <tr>\n",
       "      <th>3</th>\n",
       "      <td>2014-01-07</td>\n",
       "      <td>19.440001</td>\n",
       "      <td>19.498571</td>\n",
       "      <td>19.211430</td>\n",
       "      <td>19.287144</td>\n",
       "      <td>16.908873</td>\n",
       "      <td>317209200</td>\n",
       "    </tr>\n",
       "    <tr>\n",
       "      <th>4</th>\n",
       "      <td>2014-01-08</td>\n",
       "      <td>19.243214</td>\n",
       "      <td>19.484285</td>\n",
       "      <td>19.238930</td>\n",
       "      <td>19.409286</td>\n",
       "      <td>17.015959</td>\n",
       "      <td>258529600</td>\n",
       "    </tr>\n",
       "  </tbody>\n",
       "</table>\n",
       "</div>"
      ],
      "text/plain": [
       "         Date       Open       High        Low      Close  Adj Close  \\\n",
       "0  2014-01-02  19.845715  19.893929  19.715000  19.754642  17.318729   \n",
       "1  2014-01-03  19.745001  19.775000  19.301071  19.320715  16.938305   \n",
       "2  2014-01-06  19.194643  19.528570  19.057142  19.426071  17.030672   \n",
       "3  2014-01-07  19.440001  19.498571  19.211430  19.287144  16.908873   \n",
       "4  2014-01-08  19.243214  19.484285  19.238930  19.409286  17.015959   \n",
       "\n",
       "      Volume  \n",
       "0  234684800  \n",
       "1  392467600  \n",
       "2  412610800  \n",
       "3  317209200  \n",
       "4  258529600  "
      ]
     },
     "execution_count": 5,
     "metadata": {},
     "output_type": "execute_result"
    }
   ],
   "source": [
    "df_ALL = pd.read_csv(dir_path_dataset_1)\n",
    "df_ALL.head()"
   ]
  },
  {
   "cell_type": "code",
   "execution_count": 6,
   "id": "b61d15b8",
   "metadata": {},
   "outputs": [
    {
     "data": {
      "text/plain": [
       "(1382, 7)"
      ]
     },
     "execution_count": 6,
     "metadata": {},
     "output_type": "execute_result"
    }
   ],
   "source": [
    "df_ALL.shape"
   ]
  },
  {
   "cell_type": "code",
   "execution_count": 7,
   "id": "b8c66d10",
   "metadata": {},
   "outputs": [
    {
     "data": {
      "text/plain": [
       "Date          object\n",
       "Open         float64\n",
       "High         float64\n",
       "Low          float64\n",
       "Close        float64\n",
       "Adj Close    float64\n",
       "Volume         int64\n",
       "dtype: object"
      ]
     },
     "execution_count": 7,
     "metadata": {},
     "output_type": "execute_result"
    }
   ],
   "source": [
    "df_ALL.dtypes"
   ]
  },
  {
   "cell_type": "code",
   "execution_count": 8,
   "id": "ea6b6ce0",
   "metadata": {},
   "outputs": [
    {
     "data": {
      "text/html": [
       "<div>\n",
       "<style scoped>\n",
       "    .dataframe tbody tr th:only-of-type {\n",
       "        vertical-align: middle;\n",
       "    }\n",
       "\n",
       "    .dataframe tbody tr th {\n",
       "        vertical-align: top;\n",
       "    }\n",
       "\n",
       "    .dataframe thead th {\n",
       "        text-align: right;\n",
       "    }\n",
       "</style>\n",
       "<table border=\"1\" class=\"dataframe\">\n",
       "  <thead>\n",
       "    <tr style=\"text-align: right;\">\n",
       "      <th></th>\n",
       "      <th>Open</th>\n",
       "      <th>High</th>\n",
       "      <th>Low</th>\n",
       "      <th>Close</th>\n",
       "      <th>Adj Close</th>\n",
       "      <th>Volume</th>\n",
       "    </tr>\n",
       "  </thead>\n",
       "  <tbody>\n",
       "    <tr>\n",
       "      <th>count</th>\n",
       "      <td>1382.000000</td>\n",
       "      <td>1382.000000</td>\n",
       "      <td>1382.000000</td>\n",
       "      <td>1382.000000</td>\n",
       "      <td>1382.000000</td>\n",
       "      <td>1.382000e+03</td>\n",
       "    </tr>\n",
       "    <tr>\n",
       "      <th>mean</th>\n",
       "      <td>33.948871</td>\n",
       "      <td>34.247564</td>\n",
       "      <td>33.653907</td>\n",
       "      <td>33.959740</td>\n",
       "      <td>31.620611</td>\n",
       "      <td>1.670774e+08</td>\n",
       "    </tr>\n",
       "    <tr>\n",
       "      <th>std</th>\n",
       "      <td>9.725011</td>\n",
       "      <td>9.820676</td>\n",
       "      <td>9.635296</td>\n",
       "      <td>9.729731</td>\n",
       "      <td>9.854169</td>\n",
       "      <td>9.220445e+07</td>\n",
       "    </tr>\n",
       "    <tr>\n",
       "      <th>min</th>\n",
       "      <td>17.684999</td>\n",
       "      <td>17.911785</td>\n",
       "      <td>17.626785</td>\n",
       "      <td>17.849285</td>\n",
       "      <td>15.648320</td>\n",
       "      <td>4.590360e+07</td>\n",
       "    </tr>\n",
       "    <tr>\n",
       "      <th>25%</th>\n",
       "      <td>26.586875</td>\n",
       "      <td>26.826250</td>\n",
       "      <td>26.304375</td>\n",
       "      <td>26.501875</td>\n",
       "      <td>24.201258</td>\n",
       "      <td>1.045275e+08</td>\n",
       "    </tr>\n",
       "    <tr>\n",
       "      <th>50%</th>\n",
       "      <td>31.481250</td>\n",
       "      <td>31.712499</td>\n",
       "      <td>31.213750</td>\n",
       "      <td>31.458751</td>\n",
       "      <td>28.356693</td>\n",
       "      <td>1.423682e+08</td>\n",
       "    </tr>\n",
       "    <tr>\n",
       "      <th>75%</th>\n",
       "      <td>42.462499</td>\n",
       "      <td>42.804375</td>\n",
       "      <td>42.068751</td>\n",
       "      <td>42.324376</td>\n",
       "      <td>40.129999</td>\n",
       "      <td>2.034164e+08</td>\n",
       "    </tr>\n",
       "    <tr>\n",
       "      <th>max</th>\n",
       "      <td>57.695000</td>\n",
       "      <td>58.367500</td>\n",
       "      <td>57.445000</td>\n",
       "      <td>58.017502</td>\n",
       "      <td>55.492199</td>\n",
       "      <td>1.065523e+09</td>\n",
       "    </tr>\n",
       "  </tbody>\n",
       "</table>\n",
       "</div>"
      ],
      "text/plain": [
       "              Open         High          Low        Close    Adj Close  \\\n",
       "count  1382.000000  1382.000000  1382.000000  1382.000000  1382.000000   \n",
       "mean     33.948871    34.247564    33.653907    33.959740    31.620611   \n",
       "std       9.725011     9.820676     9.635296     9.729731     9.854169   \n",
       "min      17.684999    17.911785    17.626785    17.849285    15.648320   \n",
       "25%      26.586875    26.826250    26.304375    26.501875    24.201258   \n",
       "50%      31.481250    31.712499    31.213750    31.458751    28.356693   \n",
       "75%      42.462499    42.804375    42.068751    42.324376    40.129999   \n",
       "max      57.695000    58.367500    57.445000    58.017502    55.492199   \n",
       "\n",
       "             Volume  \n",
       "count  1.382000e+03  \n",
       "mean   1.670774e+08  \n",
       "std    9.220445e+07  \n",
       "min    4.590360e+07  \n",
       "25%    1.045275e+08  \n",
       "50%    1.423682e+08  \n",
       "75%    2.034164e+08  \n",
       "max    1.065523e+09  "
      ]
     },
     "execution_count": 8,
     "metadata": {},
     "output_type": "execute_result"
    }
   ],
   "source": [
    "# Statistic Summary\n",
    "\n",
    "df_ALL.describe()"
   ]
  },
  {
   "cell_type": "markdown",
   "id": "60fe2fba",
   "metadata": {},
   "source": [
    "### Keep only close price and filter out all other attributes"
   ]
  },
  {
   "cell_type": "code",
   "execution_count": 9,
   "id": "ec498b8f",
   "metadata": {},
   "outputs": [],
   "source": [
    "df = df_ALL.iloc[:,4:5]"
   ]
  },
  {
   "cell_type": "code",
   "execution_count": 10,
   "id": "ecd790df",
   "metadata": {},
   "outputs": [
    {
     "data": {
      "text/html": [
       "<div>\n",
       "<style scoped>\n",
       "    .dataframe tbody tr th:only-of-type {\n",
       "        vertical-align: middle;\n",
       "    }\n",
       "\n",
       "    .dataframe tbody tr th {\n",
       "        vertical-align: top;\n",
       "    }\n",
       "\n",
       "    .dataframe thead th {\n",
       "        text-align: right;\n",
       "    }\n",
       "</style>\n",
       "<table border=\"1\" class=\"dataframe\">\n",
       "  <thead>\n",
       "    <tr style=\"text-align: right;\">\n",
       "      <th></th>\n",
       "      <th>Close</th>\n",
       "    </tr>\n",
       "  </thead>\n",
       "  <tbody>\n",
       "    <tr>\n",
       "      <th>0</th>\n",
       "      <td>19.754642</td>\n",
       "    </tr>\n",
       "    <tr>\n",
       "      <th>1</th>\n",
       "      <td>19.320715</td>\n",
       "    </tr>\n",
       "    <tr>\n",
       "      <th>2</th>\n",
       "      <td>19.426071</td>\n",
       "    </tr>\n",
       "    <tr>\n",
       "      <th>3</th>\n",
       "      <td>19.287144</td>\n",
       "    </tr>\n",
       "    <tr>\n",
       "      <th>4</th>\n",
       "      <td>19.409286</td>\n",
       "    </tr>\n",
       "  </tbody>\n",
       "</table>\n",
       "</div>"
      ],
      "text/plain": [
       "       Close\n",
       "0  19.754642\n",
       "1  19.320715\n",
       "2  19.426071\n",
       "3  19.287144\n",
       "4  19.409286"
      ]
     },
     "execution_count": 10,
     "metadata": {},
     "output_type": "execute_result"
    }
   ],
   "source": [
    "df.head()"
   ]
  },
  {
   "cell_type": "code",
   "execution_count": 11,
   "id": "91c57757",
   "metadata": {},
   "outputs": [
    {
     "data": {
      "text/plain": [
       "<AxesSubplot:>"
      ]
     },
     "execution_count": 11,
     "metadata": {},
     "output_type": "execute_result"
    },
    {
     "data": {
      "image/png": "[encoded data removed]",
      "text/plain": [
       "<Figure size 1200x800 with 1 Axes>"
      ]
     },
     "metadata": {},
     "output_type": "display_data"
    }
   ],
   "source": [
    "df.plot(figsize=(12,8))"
   ]
  },
  {
   "cell_type": "markdown",
   "id": "39a84f3d",
   "metadata": {},
   "source": [
    "### Length of input Time Series-Number of Input Time Steps"
   ]
  },
  {
   "cell_type": "code",
   "execution_count": 12,
   "id": "91e0c5ad",
   "metadata": {},
   "outputs": [],
   "source": [
    "length60 = 60"
   ]
  },
  {
   "cell_type": "code",
   "execution_count": 13,
   "id": "db4e1ad5",
   "metadata": {},
   "outputs": [
    {
     "data": {
      "text/plain": [
       "60"
      ]
     },
     "execution_count": 13,
     "metadata": {},
     "output_type": "execute_result"
    }
   ],
   "source": [
    "length60"
   ]
  },
  {
   "cell_type": "markdown",
   "id": "a056c5c4",
   "metadata": {},
   "source": [
    "### Time Series Dataset: Train/ test split"
   ]
  },
  {
   "cell_type": "code",
   "execution_count": 14,
   "id": "ae533f94",
   "metadata": {},
   "outputs": [
    {
     "data": {
      "text/plain": [
       "1382"
      ]
     },
     "execution_count": 14,
     "metadata": {},
     "output_type": "execute_result"
    }
   ],
   "source": [
    "len(df)"
   ]
  },
  {
   "cell_type": "code",
   "execution_count": 15,
   "id": "a66dbe7d",
   "metadata": {},
   "outputs": [],
   "source": [
    "# Set percentage of data used for testing\n",
    "\n",
    "test_percent = 0.1"
   ]
  },
  {
   "cell_type": "code",
   "execution_count": 16,
   "id": "4fd38333",
   "metadata": {},
   "outputs": [
    {
     "data": {
      "text/plain": [
       "138.20000000000002"
      ]
     },
     "execution_count": 16,
     "metadata": {},
     "output_type": "execute_result"
    }
   ],
   "source": [
    "len(df)*test_percent"
   ]
  },
  {
   "cell_type": "markdown",
   "id": "9678272a",
   "metadata": {},
   "source": [
    "### Split Data -> Train/Test"
   ]
  },
  {
   "cell_type": "code",
   "execution_count": 17,
   "id": "f961768d",
   "metadata": {},
   "outputs": [
    {
     "data": {
      "text/plain": [
       "138.0"
      ]
     },
     "execution_count": 17,
     "metadata": {},
     "output_type": "execute_result"
    }
   ],
   "source": [
    "test_length = np.round(len(df)*test_percent)\n",
    "test_length"
   ]
  },
  {
   "cell_type": "code",
   "execution_count": 18,
   "id": "92f163d3",
   "metadata": {},
   "outputs": [
    {
     "data": {
      "text/plain": [
       "1244"
      ]
     },
     "execution_count": 18,
     "metadata": {},
     "output_type": "execute_result"
    }
   ],
   "source": [
    "split_index = int(len(df)-test_length)\n",
    "\n",
    "split_index"
   ]
  },
  {
   "cell_type": "code",
   "execution_count": 19,
   "id": "93c7577f",
   "metadata": {},
   "outputs": [],
   "source": [
    "data_train = df.iloc[:split_index]"
   ]
  },
  {
   "cell_type": "code",
   "execution_count": 20,
   "id": "2056a645",
   "metadata": {},
   "outputs": [],
   "source": [
    "data_test = df.iloc[split_index - length60:]"
   ]
  },
  {
   "cell_type": "code",
   "execution_count": 21,
   "id": "cd4ab5c8",
   "metadata": {},
   "outputs": [
    {
     "data": {
      "text/html": [
       "<div>\n",
       "<style scoped>\n",
       "    .dataframe tbody tr th:only-of-type {\n",
       "        vertical-align: middle;\n",
       "    }\n",
       "\n",
       "    .dataframe tbody tr th {\n",
       "        vertical-align: top;\n",
       "    }\n",
       "\n",
       "    .dataframe thead th {\n",
       "        text-align: right;\n",
       "    }\n",
       "</style>\n",
       "<table border=\"1\" class=\"dataframe\">\n",
       "  <thead>\n",
       "    <tr style=\"text-align: right;\">\n",
       "      <th></th>\n",
       "      <th>Close</th>\n",
       "    </tr>\n",
       "  </thead>\n",
       "  <tbody>\n",
       "    <tr>\n",
       "      <th>0</th>\n",
       "      <td>19.754642</td>\n",
       "    </tr>\n",
       "    <tr>\n",
       "      <th>1</th>\n",
       "      <td>19.320715</td>\n",
       "    </tr>\n",
       "    <tr>\n",
       "      <th>2</th>\n",
       "      <td>19.426071</td>\n",
       "    </tr>\n",
       "    <tr>\n",
       "      <th>3</th>\n",
       "      <td>19.287144</td>\n",
       "    </tr>\n",
       "    <tr>\n",
       "      <th>4</th>\n",
       "      <td>19.409286</td>\n",
       "    </tr>\n",
       "  </tbody>\n",
       "</table>\n",
       "</div>"
      ],
      "text/plain": [
       "       Close\n",
       "0  19.754642\n",
       "1  19.320715\n",
       "2  19.426071\n",
       "3  19.287144\n",
       "4  19.409286"
      ]
     },
     "execution_count": 21,
     "metadata": {},
     "output_type": "execute_result"
    }
   ],
   "source": [
    "data_train.head(5)"
   ]
  },
  {
   "cell_type": "code",
   "execution_count": 22,
   "id": "4b6b90db",
   "metadata": {},
   "outputs": [
    {
     "data": {
      "text/html": [
       "<div>\n",
       "<style scoped>\n",
       "    .dataframe tbody tr th:only-of-type {\n",
       "        vertical-align: middle;\n",
       "    }\n",
       "\n",
       "    .dataframe tbody tr th {\n",
       "        vertical-align: top;\n",
       "    }\n",
       "\n",
       "    .dataframe thead th {\n",
       "        text-align: right;\n",
       "    }\n",
       "</style>\n",
       "<table border=\"1\" class=\"dataframe\">\n",
       "  <thead>\n",
       "    <tr style=\"text-align: right;\">\n",
       "      <th></th>\n",
       "      <th>Close</th>\n",
       "    </tr>\n",
       "  </thead>\n",
       "  <tbody>\n",
       "    <tr>\n",
       "      <th>1239</th>\n",
       "      <td>46.205002</td>\n",
       "    </tr>\n",
       "    <tr>\n",
       "      <th>1240</th>\n",
       "      <td>44.172501</td>\n",
       "    </tr>\n",
       "    <tr>\n",
       "      <th>1241</th>\n",
       "      <td>43.680000</td>\n",
       "    </tr>\n",
       "    <tr>\n",
       "      <th>1242</th>\n",
       "      <td>42.122501</td>\n",
       "    </tr>\n",
       "    <tr>\n",
       "      <th>1243</th>\n",
       "      <td>42.400002</td>\n",
       "    </tr>\n",
       "  </tbody>\n",
       "</table>\n",
       "</div>"
      ],
      "text/plain": [
       "          Close\n",
       "1239  46.205002\n",
       "1240  44.172501\n",
       "1241  43.680000\n",
       "1242  42.122501\n",
       "1243  42.400002"
      ]
     },
     "execution_count": 22,
     "metadata": {},
     "output_type": "execute_result"
    }
   ],
   "source": [
    "data_train.tail()"
   ]
  },
  {
   "cell_type": "code",
   "execution_count": 23,
   "id": "37fe0191",
   "metadata": {},
   "outputs": [
    {
     "data": {
      "text/html": [
       "<div>\n",
       "<style scoped>\n",
       "    .dataframe tbody tr th:only-of-type {\n",
       "        vertical-align: middle;\n",
       "    }\n",
       "\n",
       "    .dataframe tbody tr th {\n",
       "        vertical-align: top;\n",
       "    }\n",
       "\n",
       "    .dataframe thead th {\n",
       "        text-align: right;\n",
       "    }\n",
       "</style>\n",
       "<table border=\"1\" class=\"dataframe\">\n",
       "  <thead>\n",
       "    <tr style=\"text-align: right;\">\n",
       "      <th></th>\n",
       "      <th>Close</th>\n",
       "    </tr>\n",
       "  </thead>\n",
       "  <tbody>\n",
       "    <tr>\n",
       "      <th>1184</th>\n",
       "      <td>55.959999</td>\n",
       "    </tr>\n",
       "    <tr>\n",
       "      <th>1185</th>\n",
       "      <td>54.470001</td>\n",
       "    </tr>\n",
       "    <tr>\n",
       "      <th>1186</th>\n",
       "      <td>54.560001</td>\n",
       "    </tr>\n",
       "    <tr>\n",
       "      <th>1187</th>\n",
       "      <td>54.592499</td>\n",
       "    </tr>\n",
       "    <tr>\n",
       "      <th>1188</th>\n",
       "      <td>55.007500</td>\n",
       "    </tr>\n",
       "  </tbody>\n",
       "</table>\n",
       "</div>"
      ],
      "text/plain": [
       "          Close\n",
       "1184  55.959999\n",
       "1185  54.470001\n",
       "1186  54.560001\n",
       "1187  54.592499\n",
       "1188  55.007500"
      ]
     },
     "execution_count": 23,
     "metadata": {},
     "output_type": "execute_result"
    }
   ],
   "source": [
    "data_test.head(5)"
   ]
  },
  {
   "cell_type": "code",
   "execution_count": 24,
   "id": "d491ff77",
   "metadata": {},
   "outputs": [
    {
     "data": {
      "text/html": [
       "<div>\n",
       "<style scoped>\n",
       "    .dataframe tbody tr th:only-of-type {\n",
       "        vertical-align: middle;\n",
       "    }\n",
       "\n",
       "    .dataframe tbody tr th {\n",
       "        vertical-align: top;\n",
       "    }\n",
       "\n",
       "    .dataframe thead th {\n",
       "        text-align: right;\n",
       "    }\n",
       "</style>\n",
       "<table border=\"1\" class=\"dataframe\">\n",
       "  <thead>\n",
       "    <tr style=\"text-align: right;\">\n",
       "      <th></th>\n",
       "      <th>Close</th>\n",
       "    </tr>\n",
       "  </thead>\n",
       "  <tbody>\n",
       "    <tr>\n",
       "      <th>1377</th>\n",
       "      <td>49.645000</td>\n",
       "    </tr>\n",
       "    <tr>\n",
       "      <th>1378</th>\n",
       "      <td>48.892502</td>\n",
       "    </tr>\n",
       "    <tr>\n",
       "      <th>1379</th>\n",
       "      <td>49.950001</td>\n",
       "    </tr>\n",
       "    <tr>\n",
       "      <th>1380</th>\n",
       "      <td>49.935001</td>\n",
       "    </tr>\n",
       "    <tr>\n",
       "      <th>1381</th>\n",
       "      <td>49.480000</td>\n",
       "    </tr>\n",
       "  </tbody>\n",
       "</table>\n",
       "</div>"
      ],
      "text/plain": [
       "          Close\n",
       "1377  49.645000\n",
       "1378  48.892502\n",
       "1379  49.950001\n",
       "1380  49.935001\n",
       "1381  49.480000"
      ]
     },
     "execution_count": 24,
     "metadata": {},
     "output_type": "execute_result"
    }
   ],
   "source": [
    "data_test.tail()"
   ]
  },
  {
   "cell_type": "markdown",
   "id": "9a2e3ae7",
   "metadata": {},
   "source": [
    "### Normalize Data in range [0, 1]"
   ]
  },
  {
   "cell_type": "code",
   "execution_count": 25,
   "id": "01eca84b",
   "metadata": {},
   "outputs": [],
   "source": [
    "scaler = MinMaxScaler()"
   ]
  },
  {
   "cell_type": "code",
   "execution_count": 26,
   "id": "4b431ab6",
   "metadata": {},
   "outputs": [
    {
     "data": {
      "text/plain": [
       "MinMaxScaler()"
      ]
     },
     "execution_count": 26,
     "metadata": {},
     "output_type": "execute_result"
    }
   ],
   "source": [
    "scaler.fit(data_train)"
   ]
  },
  {
   "cell_type": "code",
   "execution_count": 27,
   "id": "cef13901",
   "metadata": {},
   "outputs": [],
   "source": [
    "normalized_train = scaler.transform(data_train)\n",
    "normalized_test = scaler.transform(data_test)"
   ]
  },
  {
   "cell_type": "markdown",
   "id": "d7ea9dbe",
   "metadata": {},
   "source": [
    "### Create TimeseriesGenerator for Training"
   ]
  },
  {
   "cell_type": "code",
   "execution_count": 28,
   "id": "53983dba",
   "metadata": {},
   "outputs": [],
   "source": [
    "batch_size32 = 32\n",
    "\n",
    "train_tsGenerator60 = TimeseriesGenerator(normalized_train, normalized_train, length=length60, batch_size=batch_size32)"
   ]
  },
  {
   "cell_type": "code",
   "execution_count": 29,
   "id": "adb0eb5b",
   "metadata": {},
   "outputs": [
    {
     "data": {
      "text/plain": [
       "1244"
      ]
     },
     "execution_count": 29,
     "metadata": {},
     "output_type": "execute_result"
    }
   ],
   "source": [
    "len(normalized_train)"
   ]
  },
  {
   "cell_type": "code",
   "execution_count": 30,
   "id": "14c1d97a",
   "metadata": {},
   "outputs": [
    {
     "data": {
      "text/plain": [
       "37"
      ]
     },
     "execution_count": 30,
     "metadata": {},
     "output_type": "execute_result"
    }
   ],
   "source": [
    "len(train_tsGenerator60)"
   ]
  },
  {
   "cell_type": "code",
   "execution_count": 31,
   "id": "13646299",
   "metadata": {},
   "outputs": [],
   "source": [
    "x,y = train_tsGenerator60[0]"
   ]
  },
  {
   "cell_type": "code",
   "execution_count": 32,
   "id": "18ba0865",
   "metadata": {},
   "outputs": [
    {
     "data": {
      "text/plain": [
       "array([[[0.04743444],\n",
       "        [0.0366317 ],\n",
       "        [0.03925457],\n",
       "        ...,\n",
       "        [0.03556474],\n",
       "        [0.03350198],\n",
       "        [0.0329685 ]],\n",
       "\n",
       "       [[0.0366317 ],\n",
       "        [0.03925457],\n",
       "        [0.03579594],\n",
       "        ...,\n",
       "        [0.03350198],\n",
       "        [0.0329685 ],\n",
       "        [0.03286185]],\n",
       "\n",
       "       [[0.03925457],\n",
       "        [0.03579594],\n",
       "        [0.0388367 ],\n",
       "        ...,\n",
       "        [0.0329685 ],\n",
       "        [0.03286185],\n",
       "        [0.03722739]],\n",
       "\n",
       "       ...,\n",
       "\n",
       "       [[0.03969917],\n",
       "        [0.03930789],\n",
       "        [0.04108617],\n",
       "        ...,\n",
       "        [0.08228787],\n",
       "        [0.07842912],\n",
       "        [0.07625081]],\n",
       "\n",
       "       [[0.03930789],\n",
       "        [0.04108617],\n",
       "        [0.03342197],\n",
       "        ...,\n",
       "        [0.07842912],\n",
       "        [0.07625081],\n",
       "        [0.08273247]],\n",
       "\n",
       "       [[0.04108617],\n",
       "        [0.03342197],\n",
       "        [0.02789165],\n",
       "        ...,\n",
       "        [0.07625081],\n",
       "        [0.08273247],\n",
       "        [0.0835593 ]]])"
      ]
     },
     "execution_count": 32,
     "metadata": {},
     "output_type": "execute_result"
    }
   ],
   "source": [
    "x"
   ]
  },
  {
   "cell_type": "code",
   "execution_count": 33,
   "id": "52f93d43",
   "metadata": {},
   "outputs": [
    {
     "data": {
      "text/plain": [
       "array([[0.03286185],\n",
       "       [0.03722739],\n",
       "       [0.03802758],\n",
       "       [0.03468451],\n",
       "       [0.02848732],\n",
       "       [0.0210632 ],\n",
       "       [0.02103656],\n",
       "       [0.02715371],\n",
       "       [0.02107213],\n",
       "       [0.01763125],\n",
       "       [0.01947174],\n",
       "       [0.01616417],\n",
       "       [0.01709777],\n",
       "       [0.0223702 ],\n",
       "       [0.02790945],\n",
       "       [0.02838067],\n",
       "       [0.02220131],\n",
       "       [0.06045115],\n",
       "       [0.06415881],\n",
       "       [0.08385276],\n",
       "       [0.08228787],\n",
       "       [0.08029625],\n",
       "       [0.08153217],\n",
       "       [0.08251013],\n",
       "       [0.08996095],\n",
       "       [0.08413729],\n",
       "       [0.08228787],\n",
       "       [0.07842912],\n",
       "       [0.07625081],\n",
       "       [0.08273247],\n",
       "       [0.0835593 ],\n",
       "       [0.08365711]])"
      ]
     },
     "execution_count": 33,
     "metadata": {},
     "output_type": "execute_result"
    }
   ],
   "source": [
    "y"
   ]
  },
  {
   "cell_type": "markdown",
   "id": "af53bca7",
   "metadata": {},
   "source": [
    "### Build LSTM Model"
   ]
  },
  {
   "cell_type": "code",
   "execution_count": 34,
   "id": "4fb537dc",
   "metadata": {},
   "outputs": [],
   "source": [
    "n_features = 1"
   ]
  },
  {
   "cell_type": "code",
   "execution_count": 35,
   "id": "7a29ce32",
   "metadata": {},
   "outputs": [
    {
     "name": "stderr",
     "output_type": "stream",
     "text": [
      "2023-11-29 21:27:29.652906: W tensorflow/compiler/xla/stream_executor/platform/default/dso_loader.cc:64] Could not load dynamic library 'libcuda.so.1'; dlerror: libcuda.so.1: cannot open shared object file: No such file or directory\n",
      "2023-11-29 21:27:29.652949: W tensorflow/compiler/xla/stream_executor/cuda/cuda_driver.cc:265] failed call to cuInit: UNKNOWN ERROR (303)\n",
      "2023-11-29 21:27:29.652991: I tensorflow/compiler/xla/stream_executor/cuda/cuda_diagnostics.cc:156] kernel driver does not appear to be running on this host (deep-learning-vm-tf2): /proc/driver/nvidia/version does not exist\n",
      "2023-11-29 21:27:29.653279: I tensorflow/core/platform/cpu_feature_guard.cc:193] This TensorFlow binary is optimized with oneAPI Deep Neural Network Library (oneDNN) to use the following CPU instructions in performance-critical operations:  AVX2 FMA\n",
      "To enable them in other operations, rebuild TensorFlow with the appropriate compiler flags.\n"
     ]
    }
   ],
   "source": [
    "model = Sequential()\n",
    "model.add(LSTM(50, activation='relu', return_sequences=True, input_shape=(length60, n_features)))\n",
    "model.add(Dropout(0.2))\n",
    "model.add(LSTM(units=50, activation='relu',return_sequences=True))\n",
    "model.add(Dropout(0.2))\n",
    "model.add(LSTM(units=50, activation='relu'))\n",
    "model.add(Dense(1))"
   ]
  },
  {
   "cell_type": "markdown",
   "id": "ff47f904",
   "metadata": {},
   "source": [
    "### Compile model"
   ]
  },
  {
   "cell_type": "code",
   "execution_count": 36,
   "id": "fac48af3",
   "metadata": {},
   "outputs": [
    {
     "name": "stdout",
     "output_type": "stream",
     "text": [
      "Model: \"sequential\"\n",
      "_________________________________________________________________\n",
      " Layer (type)                Output Shape              Param #   \n",
      "=================================================================\n",
      " lstm (LSTM)                 (None, 60, 50)            10400     \n",
      "                                                                 \n",
      " dropout (Dropout)           (None, 60, 50)            0         \n",
      "                                                                 \n",
      " lstm_1 (LSTM)               (None, 60, 50)            20200     \n",
      "                                                                 \n",
      " dropout_1 (Dropout)         (None, 60, 50)            0         \n",
      "                                                                 \n",
      " lstm_2 (LSTM)               (None, 50)                20200     \n",
      "                                                                 \n",
      " dense (Dense)               (None, 1)                 51        \n",
      "                                                                 \n",
      "=================================================================\n",
      "Total params: 50,851\n",
      "Trainable params: 50,851\n",
      "Non-trainable params: 0\n",
      "_________________________________________________________________\n"
     ]
    }
   ],
   "source": [
    "model.compile(optimizer='adam',loss='mse')\n",
    "model.summary()"
   ]
  },
  {
   "cell_type": "markdown",
   "id": "117858a8",
   "metadata": {},
   "source": [
    "### Train(Fit) Model using fit_generator()"
   ]
  },
  {
   "cell_type": "code",
   "execution_count": 37,
   "id": "8d7d354e",
   "metadata": {},
   "outputs": [
    {
     "name": "stdout",
     "output_type": "stream",
     "text": [
      "Epoch 1/100\n"
     ]
    },
    {
     "name": "stderr",
     "output_type": "stream",
     "text": [
      "/opt/conda/lib/python3.7/site-packages/ipykernel_launcher.py:1: UserWarning: `Model.fit_generator` is deprecated and will be removed in a future version. Please use `Model.fit`, which supports generators.\n",
      "  \"\"\"Entry point for launching an IPython kernel.\n"
     ]
    },
    {
     "name": "stdout",
     "output_type": "stream",
     "text": [
      "37/37 [==============================] - 7s 67ms/step - loss: 0.0565\n",
      "Epoch 2/100\n",
      "37/37 [==============================] - 3s 68ms/step - loss: 0.0125\n",
      "Epoch 3/100\n",
      "37/37 [==============================] - 3s 67ms/step - loss: 0.0058\n",
      "Epoch 4/100\n",
      "37/37 [==============================] - 3s 68ms/step - loss: 0.0057\n",
      "Epoch 5/100\n",
      "37/37 [==============================] - 2s 66ms/step - loss: 0.0051\n",
      "Epoch 6/100\n",
      "37/37 [==============================] - 3s 68ms/step - loss: 0.0035\n",
      "Epoch 7/100\n",
      "37/37 [==============================] - 3s 68ms/step - loss: 0.0035\n",
      "Epoch 8/100\n",
      "37/37 [==============================] - 3s 68ms/step - loss: 0.0031\n",
      "Epoch 9/100\n",
      "37/37 [==============================] - 3s 69ms/step - loss: 0.0051\n",
      "Epoch 10/100\n",
      "37/37 [==============================] - 3s 70ms/step - loss: 0.0035\n",
      "Epoch 11/100\n",
      "37/37 [==============================] - 3s 76ms/step - loss: 0.0027\n",
      "Epoch 12/100\n",
      "37/37 [==============================] - 3s 69ms/step - loss: 0.0028\n",
      "Epoch 13/100\n",
      "37/37 [==============================] - 3s 68ms/step - loss: 0.0026\n",
      "Epoch 14/100\n",
      "37/37 [==============================] - 3s 69ms/step - loss: 0.0026\n",
      "Epoch 15/100\n",
      "37/37 [==============================] - 3s 70ms/step - loss: 0.0055\n",
      "Epoch 16/100\n",
      "37/37 [==============================] - 3s 69ms/step - loss: 0.0021\n",
      "Epoch 17/100\n",
      "37/37 [==============================] - 3s 67ms/step - loss: 0.0022\n",
      "Epoch 18/100\n",
      "37/37 [==============================] - 3s 69ms/step - loss: 0.0026\n",
      "Epoch 19/100\n",
      "37/37 [==============================] - 3s 68ms/step - loss: 0.0029\n",
      "Epoch 20/100\n",
      "37/37 [==============================] - 3s 70ms/step - loss: 0.0033\n",
      "Epoch 21/100\n",
      "37/37 [==============================] - 3s 73ms/step - loss: 0.0046\n",
      "Epoch 22/100\n",
      "37/37 [==============================] - 3s 73ms/step - loss: 0.0021\n",
      "Epoch 23/100\n",
      "37/37 [==============================] - 3s 72ms/step - loss: 0.0025\n",
      "Epoch 24/100\n",
      "37/37 [==============================] - 3s 69ms/step - loss: 0.0023\n",
      "Epoch 25/100\n",
      "37/37 [==============================] - 3s 70ms/step - loss: 0.0022\n",
      "Epoch 26/100\n",
      "37/37 [==============================] - 3s 73ms/step - loss: 0.0030\n",
      "Epoch 27/100\n",
      "37/37 [==============================] - 3s 72ms/step - loss: 0.0018\n",
      "Epoch 28/100\n",
      "37/37 [==============================] - 3s 74ms/step - loss: 0.0018\n",
      "Epoch 29/100\n",
      "37/37 [==============================] - 3s 73ms/step - loss: 0.0022\n",
      "Epoch 30/100\n",
      "37/37 [==============================] - 3s 79ms/step - loss: 0.0017\n",
      "Epoch 31/100\n",
      "37/37 [==============================] - 3s 74ms/step - loss: 0.0019\n",
      "Epoch 32/100\n",
      "37/37 [==============================] - 3s 76ms/step - loss: 0.0024\n",
      "Epoch 33/100\n",
      "37/37 [==============================] - 3s 74ms/step - loss: 0.0020\n",
      "Epoch 34/100\n",
      "37/37 [==============================] - 3s 70ms/step - loss: 0.0024\n",
      "Epoch 35/100\n",
      "37/37 [==============================] - 3s 72ms/step - loss: 0.0019\n",
      "Epoch 36/100\n",
      "37/37 [==============================] - 3s 72ms/step - loss: 0.0021\n",
      "Epoch 37/100\n",
      "37/37 [==============================] - 3s 71ms/step - loss: 0.0024\n",
      "Epoch 38/100\n",
      "37/37 [==============================] - 3s 72ms/step - loss: 0.0021\n",
      "Epoch 39/100\n",
      "37/37 [==============================] - 3s 72ms/step - loss: 0.0019\n",
      "Epoch 40/100\n",
      "37/37 [==============================] - 3s 73ms/step - loss: 0.0019\n",
      "Epoch 41/100\n",
      "37/37 [==============================] - 3s 72ms/step - loss: 0.0018\n",
      "Epoch 42/100\n",
      "37/37 [==============================] - 3s 73ms/step - loss: 0.0021\n",
      "Epoch 43/100\n",
      "37/37 [==============================] - 3s 73ms/step - loss: 0.0018\n",
      "Epoch 44/100\n",
      "37/37 [==============================] - 3s 72ms/step - loss: 0.0019\n",
      "Epoch 45/100\n",
      "37/37 [==============================] - 3s 72ms/step - loss: 0.0023\n",
      "Epoch 46/100\n",
      "37/37 [==============================] - 3s 72ms/step - loss: 0.0016\n",
      "Epoch 47/100\n",
      "37/37 [==============================] - 3s 71ms/step - loss: 0.0026\n",
      "Epoch 48/100\n",
      "37/37 [==============================] - 3s 77ms/step - loss: 0.0021\n",
      "Epoch 49/100\n",
      "37/37 [==============================] - 3s 69ms/step - loss: 0.0025\n",
      "Epoch 50/100\n",
      "37/37 [==============================] - 3s 77ms/step - loss: 0.0042\n",
      "Epoch 51/100\n",
      "37/37 [==============================] - 3s 71ms/step - loss: 0.0019\n",
      "Epoch 52/100\n",
      "37/37 [==============================] - 3s 69ms/step - loss: 0.0018\n",
      "Epoch 53/100\n",
      "37/37 [==============================] - 3s 68ms/step - loss: 0.0014\n",
      "Epoch 54/100\n",
      "37/37 [==============================] - 3s 71ms/step - loss: 0.0015\n",
      "Epoch 55/100\n",
      "37/37 [==============================] - 3s 71ms/step - loss: 0.0019\n",
      "Epoch 56/100\n",
      "37/37 [==============================] - 3s 71ms/step - loss: 0.0017\n",
      "Epoch 57/100\n",
      "37/37 [==============================] - 3s 69ms/step - loss: 0.0024\n",
      "Epoch 58/100\n",
      "37/37 [==============================] - 3s 69ms/step - loss: 0.0027\n",
      "Epoch 59/100\n",
      "37/37 [==============================] - 3s 70ms/step - loss: 0.0022\n",
      "Epoch 60/100\n",
      "37/37 [==============================] - 3s 68ms/step - loss: 0.0014\n",
      "Epoch 61/100\n",
      "37/37 [==============================] - 3s 69ms/step - loss: 0.0020\n",
      "Epoch 62/100\n",
      "37/37 [==============================] - 3s 69ms/step - loss: 0.0023\n",
      "Epoch 63/100\n",
      "37/37 [==============================] - 3s 69ms/step - loss: 0.0034\n",
      "Epoch 64/100\n",
      "37/37 [==============================] - 3s 68ms/step - loss: 0.0023\n",
      "Epoch 65/100\n",
      "37/37 [==============================] - 3s 68ms/step - loss: 0.0014\n",
      "Epoch 66/100\n",
      "37/37 [==============================] - 3s 70ms/step - loss: 0.0020\n",
      "Epoch 67/100\n",
      "37/37 [==============================] - 3s 70ms/step - loss: 0.0026\n",
      "Epoch 68/100\n",
      "37/37 [==============================] - 3s 68ms/step - loss: 0.0016\n",
      "Epoch 69/100\n",
      "37/37 [==============================] - 3s 70ms/step - loss: 0.0012\n",
      "Epoch 70/100\n",
      "37/37 [==============================] - 2s 67ms/step - loss: 0.0014\n",
      "Epoch 71/100\n",
      "37/37 [==============================] - 2s 66ms/step - loss: 0.0017\n",
      "Epoch 72/100\n",
      "37/37 [==============================] - 2s 65ms/step - loss: 0.0017\n",
      "Epoch 73/100\n",
      "37/37 [==============================] - 2s 66ms/step - loss: 0.0025\n",
      "Epoch 74/100\n",
      "37/37 [==============================] - 2s 66ms/step - loss: 0.0013\n",
      "Epoch 75/100\n",
      "37/37 [==============================] - 2s 67ms/step - loss: 0.0013\n",
      "Epoch 76/100\n",
      "37/37 [==============================] - 2s 66ms/step - loss: 0.0014\n",
      "Epoch 77/100\n",
      "37/37 [==============================] - 3s 68ms/step - loss: 0.0019\n",
      "Epoch 78/100\n",
      "37/37 [==============================] - 2s 66ms/step - loss: 0.0015\n",
      "Epoch 79/100\n",
      "37/37 [==============================] - 2s 67ms/step - loss: 0.0013\n",
      "Epoch 80/100\n",
      "37/37 [==============================] - 2s 66ms/step - loss: 0.0013\n",
      "Epoch 81/100\n",
      "37/37 [==============================] - 2s 66ms/step - loss: 0.0013\n",
      "Epoch 82/100\n",
      "37/37 [==============================] - 2s 66ms/step - loss: 0.0012\n",
      "Epoch 83/100\n",
      "37/37 [==============================] - 3s 69ms/step - loss: 0.0014\n",
      "Epoch 84/100\n",
      "37/37 [==============================] - 3s 69ms/step - loss: 0.0014\n",
      "Epoch 85/100\n",
      "37/37 [==============================] - 3s 69ms/step - loss: 0.0013\n",
      "Epoch 86/100\n",
      "37/37 [==============================] - 3s 72ms/step - loss: 0.0011\n",
      "Epoch 87/100\n",
      "37/37 [==============================] - 3s 70ms/step - loss: 0.0012\n",
      "Epoch 88/100\n",
      "37/37 [==============================] - 3s 74ms/step - loss: 0.0011\n",
      "Epoch 89/100\n",
      "37/37 [==============================] - 3s 77ms/step - loss: 0.0011\n",
      "Epoch 90/100\n",
      "37/37 [==============================] - 3s 87ms/step - loss: 9.8369e-04\n",
      "Epoch 91/100\n",
      "37/37 [==============================] - 3s 76ms/step - loss: 0.0012\n",
      "Epoch 92/100\n",
      "37/37 [==============================] - 3s 78ms/step - loss: 0.0013\n",
      "Epoch 93/100\n",
      "37/37 [==============================] - 3s 74ms/step - loss: 0.0012\n",
      "Epoch 94/100\n",
      "37/37 [==============================] - 3s 73ms/step - loss: 0.0014\n",
      "Epoch 95/100\n",
      "37/37 [==============================] - 3s 73ms/step - loss: 0.0012\n",
      "Epoch 96/100\n",
      "37/37 [==============================] - 3s 75ms/step - loss: 0.0012\n",
      "Epoch 97/100\n",
      "37/37 [==============================] - 3s 79ms/step - loss: 0.0011\n",
      "Epoch 98/100\n",
      "37/37 [==============================] - 3s 74ms/step - loss: 0.0012\n",
      "Epoch 99/100\n",
      "37/37 [==============================] - 3s 74ms/step - loss: 0.0015\n",
      "Epoch 100/100\n",
      "37/37 [==============================] - 3s 75ms/step - loss: 0.0011\n"
     ]
    },
    {
     "data": {
      "text/plain": [
       "<keras.callbacks.History at 0x7fb0212ba2d0>"
      ]
     },
     "execution_count": 37,
     "metadata": {},
     "output_type": "execute_result"
    }
   ],
   "source": [
    "model.fit_generator(train_tsGenerator60, epochs=100)"
   ]
  },
  {
   "cell_type": "markdown",
   "id": "00bd68d2",
   "metadata": {},
   "source": [
    "### Visualize model"
   ]
  },
  {
   "cell_type": "code",
   "execution_count": 38,
   "id": "140c3e1c",
   "metadata": {},
   "outputs": [
    {
     "data": {
      "text/plain": [
       "dict_keys(['loss'])"
      ]
     },
     "execution_count": 38,
     "metadata": {},
     "output_type": "execute_result"
    }
   ],
   "source": [
    "loss_history_keys = model.history.history.keys()\n",
    "loss_history_keys"
   ]
  },
  {
   "cell_type": "code",
   "execution_count": 39,
   "id": "7b555ad4",
   "metadata": {},
   "outputs": [
    {
     "data": {
      "text/plain": [
       "<AxesSubplot:>"
      ]
     },
     "execution_count": 39,
     "metadata": {},
     "output_type": "execute_result"
    },
    {
     "data": {
      "image/png": "[encoded data removed]",
      "text/plain": [
       "<Figure size 640x480 with 1 Axes>"
      ]
     },
     "metadata": {},
     "output_type": "display_data"
    }
   ],
   "source": [
    "df_model_loss = pd.DataFrame(model.history.history)\n",
    "df_model_loss.plot()"
   ]
  },
  {
   "cell_type": "markdown",
   "id": "647b962c",
   "metadata": {},
   "source": [
    "### Prediction for testing: Using TimeSeriesGenerator"
   ]
  },
  {
   "cell_type": "code",
   "execution_count": 40,
   "id": "f244d8f8",
   "metadata": {},
   "outputs": [],
   "source": [
    "batch_size1 = 1"
   ]
  },
  {
   "cell_type": "code",
   "execution_count": 41,
   "id": "3ff61969",
   "metadata": {},
   "outputs": [],
   "source": [
    "test_tsGenerator60 = TimeseriesGenerator(normalized_test, normalized_test, length=length60, batch_size=batch_size1)"
   ]
  },
  {
   "cell_type": "markdown",
   "id": "77b1dfed",
   "metadata": {},
   "source": [
    "### Predict Future Data Points for Testing"
   ]
  },
  {
   "cell_type": "code",
   "execution_count": 42,
   "id": "1743ea78",
   "metadata": {},
   "outputs": [
    {
     "name": "stdout",
     "output_type": "stream",
     "text": [
      "138/138 [==============================] - 2s 10ms/step\n"
     ]
    }
   ],
   "source": [
    "normalized_prediction = model.predict(test_tsGenerator60)"
   ]
  },
  {
   "cell_type": "code",
   "execution_count": 43,
   "id": "867d517b",
   "metadata": {},
   "outputs": [
    {
     "data": {
      "text/plain": [
       "array([[0.65064436],\n",
       "       [0.64290786],\n",
       "       [0.6343092 ],\n",
       "       [0.62656355],\n",
       "       [0.6185852 ],\n",
       "       [0.61028296],\n",
       "       [0.6027983 ],\n",
       "       [0.59496737],\n",
       "       [0.58586514],\n",
       "       [0.5741341 ],\n",
       "       [0.55916405],\n",
       "       [0.5461986 ],\n",
       "       [0.5357925 ],\n",
       "       [0.52834725],\n",
       "       [0.52431846],\n",
       "       [0.5233023 ],\n",
       "       [0.51963985],\n",
       "       [0.5145345 ],\n",
       "       [0.5084745 ],\n",
       "       [0.50297636],\n",
       "       [0.4993573 ],\n",
       "       [0.497919  ],\n",
       "       [0.4979091 ],\n",
       "       [0.49810413],\n",
       "       [0.49898636],\n",
       "       [0.50095206],\n",
       "       [0.5040279 ],\n",
       "       [0.50809914],\n",
       "       [0.511592  ],\n",
       "       [0.51422   ],\n",
       "       [0.51551193],\n",
       "       [0.5171286 ],\n",
       "       [0.51886016],\n",
       "       [0.520121  ],\n",
       "       [0.5240923 ],\n",
       "       [0.5311411 ],\n",
       "       [0.54044706],\n",
       "       [0.55226743],\n",
       "       [0.5662211 ],\n",
       "       [0.5810812 ],\n",
       "       [0.5942751 ],\n",
       "       [0.60448253],\n",
       "       [0.6110604 ],\n",
       "       [0.61487025],\n",
       "       [0.61634725],\n",
       "       [0.6163786 ],\n",
       "       [0.6154739 ],\n",
       "       [0.614309  ],\n",
       "       [0.61361545],\n",
       "       [0.61322224],\n",
       "       [0.6137558 ],\n",
       "       [0.615531  ],\n",
       "       [0.6182764 ],\n",
       "       [0.621731  ],\n",
       "       [0.6248408 ],\n",
       "       [0.6278775 ],\n",
       "       [0.63097477],\n",
       "       [0.63385355],\n",
       "       [0.6359925 ],\n",
       "       [0.63662624],\n",
       "       [0.6360588 ],\n",
       "       [0.63673747],\n",
       "       [0.639558  ],\n",
       "       [0.64443225],\n",
       "       [0.6513048 ],\n",
       "       [0.66007435],\n",
       "       [0.6703508 ],\n",
       "       [0.6804218 ],\n",
       "       [0.6898671 ],\n",
       "       [0.7006249 ],\n",
       "       [0.710423  ],\n",
       "       [0.71763104],\n",
       "       [0.72130466],\n",
       "       [0.72250986],\n",
       "       [0.72209316],\n",
       "       [0.7212396 ],\n",
       "       [0.720936  ],\n",
       "       [0.7224077 ],\n",
       "       [0.7259164 ],\n",
       "       [0.73095435],\n",
       "       [0.737198  ],\n",
       "       [0.744994  ],\n",
       "       [0.75316495],\n",
       "       [0.761245  ],\n",
       "       [0.7678405 ],\n",
       "       [0.77254605],\n",
       "       [0.7755257 ],\n",
       "       [0.7770529 ],\n",
       "       [0.77904326],\n",
       "       [0.7818919 ],\n",
       "       [0.78562933],\n",
       "       [0.79099023],\n",
       "       [0.7971348 ],\n",
       "       [0.80250293],\n",
       "       [0.80618155],\n",
       "       [0.80823594],\n",
       "       [0.8072998 ],\n",
       "       [0.8081158 ],\n",
       "       [0.8102928 ],\n",
       "       [0.81458753],\n",
       "       [0.81887406],\n",
       "       [0.82017183],\n",
       "       [0.8186464 ],\n",
       "       [0.8141697 ],\n",
       "       [0.806481  ],\n",
       "       [0.79287124],\n",
       "       [0.7768135 ],\n",
       "       [0.7612232 ],\n",
       "       [0.7473908 ],\n",
       "       [0.73587835],\n",
       "       [0.7250006 ],\n",
       "       [0.71628   ],\n",
       "       [0.7085412 ],\n",
       "       [0.7007802 ],\n",
       "       [0.6929821 ],\n",
       "       [0.68528986],\n",
       "       [0.6778569 ],\n",
       "       [0.6713959 ],\n",
       "       [0.6651147 ],\n",
       "       [0.6586164 ],\n",
       "       [0.654426  ],\n",
       "       [0.6536986 ],\n",
       "       [0.6569072 ],\n",
       "       [0.6646308 ],\n",
       "       [0.6760875 ],\n",
       "       [0.6902157 ],\n",
       "       [0.70516205],\n",
       "       [0.7191291 ],\n",
       "       [0.73033476],\n",
       "       [0.7386975 ],\n",
       "       [0.74608207],\n",
       "       [0.75232637],\n",
       "       [0.7580162 ],\n",
       "       [0.7627641 ],\n",
       "       [0.76639444],\n",
       "       [0.7677361 ],\n",
       "       [0.768806  ],\n",
       "       [0.769891  ]], dtype=float32)"
      ]
     },
     "execution_count": 43,
     "metadata": {},
     "output_type": "execute_result"
    }
   ],
   "source": [
    "normalized_prediction"
   ]
  },
  {
   "cell_type": "code",
   "execution_count": 44,
   "id": "aa71eeb9",
   "metadata": {},
   "outputs": [
    {
     "data": {
      "text/plain": [
       "138"
      ]
     },
     "execution_count": 44,
     "metadata": {},
     "output_type": "execute_result"
    }
   ],
   "source": [
    "len(normalized_prediction)"
   ]
  },
  {
   "cell_type": "code",
   "execution_count": 45,
   "id": "8849e5a8",
   "metadata": {},
   "outputs": [],
   "source": [
    "prediction = scaler.inverse_transform(normalized_prediction)"
   ]
  },
  {
   "cell_type": "code",
   "execution_count": 46,
   "id": "f3413368",
   "metadata": {},
   "outputs": [],
   "source": [
    "prediction_index = np.arange(1244, 1382, step=1)\n",
    "df_prediction = pd.DataFrame(data=prediction,index=prediction_index,columns=['Prediction'])"
   ]
  },
  {
   "cell_type": "code",
   "execution_count": 47,
   "id": "59246ce2",
   "metadata": {},
   "outputs": [
    {
     "data": {
      "text/html": [
       "<div>\n",
       "<style scoped>\n",
       "    .dataframe tbody tr th:only-of-type {\n",
       "        vertical-align: middle;\n",
       "    }\n",
       "\n",
       "    .dataframe tbody tr th {\n",
       "        vertical-align: top;\n",
       "    }\n",
       "\n",
       "    .dataframe thead th {\n",
       "        text-align: right;\n",
       "    }\n",
       "</style>\n",
       "<table border=\"1\" class=\"dataframe\">\n",
       "  <thead>\n",
       "    <tr style=\"text-align: right;\">\n",
       "      <th></th>\n",
       "      <th>Prediction</th>\n",
       "    </tr>\n",
       "  </thead>\n",
       "  <tbody>\n",
       "    <tr>\n",
       "      <th>1244</th>\n",
       "      <td>43.984509</td>\n",
       "    </tr>\n",
       "    <tr>\n",
       "      <th>1245</th>\n",
       "      <td>43.673744</td>\n",
       "    </tr>\n",
       "    <tr>\n",
       "      <th>1246</th>\n",
       "      <td>43.328354</td>\n",
       "    </tr>\n",
       "    <tr>\n",
       "      <th>1247</th>\n",
       "      <td>43.017223</td>\n",
       "    </tr>\n",
       "    <tr>\n",
       "      <th>1248</th>\n",
       "      <td>42.696751</td>\n",
       "    </tr>\n",
       "    <tr>\n",
       "      <th>...</th>\n",
       "      <td>...</td>\n",
       "    </tr>\n",
       "    <tr>\n",
       "      <th>1377</th>\n",
       "      <td>48.488159</td>\n",
       "    </tr>\n",
       "    <tr>\n",
       "      <th>1378</th>\n",
       "      <td>48.633984</td>\n",
       "    </tr>\n",
       "    <tr>\n",
       "      <th>1379</th>\n",
       "      <td>48.687874</td>\n",
       "    </tr>\n",
       "    <tr>\n",
       "      <th>1380</th>\n",
       "      <td>48.730850</td>\n",
       "    </tr>\n",
       "    <tr>\n",
       "      <th>1381</th>\n",
       "      <td>48.774433</td>\n",
       "    </tr>\n",
       "  </tbody>\n",
       "</table>\n",
       "<p>138 rows × 1 columns</p>\n",
       "</div>"
      ],
      "text/plain": [
       "      Prediction\n",
       "1244   43.984509\n",
       "1245   43.673744\n",
       "1246   43.328354\n",
       "1247   43.017223\n",
       "1248   42.696751\n",
       "...          ...\n",
       "1377   48.488159\n",
       "1378   48.633984\n",
       "1379   48.687874\n",
       "1380   48.730850\n",
       "1381   48.774433\n",
       "\n",
       "[138 rows x 1 columns]"
      ]
     },
     "execution_count": 47,
     "metadata": {},
     "output_type": "execute_result"
    }
   ],
   "source": [
    "df_prediction"
   ]
  },
  {
   "cell_type": "markdown",
   "id": "e30d6db7",
   "metadata": {},
   "source": [
    "### Visualize Prediction"
   ]
  },
  {
   "cell_type": "code",
   "execution_count": 48,
   "id": "709294e4",
   "metadata": {},
   "outputs": [
    {
     "data": {
      "text/plain": [
       "<AxesSubplot:>"
      ]
     },
     "execution_count": 48,
     "metadata": {},
     "output_type": "execute_result"
    },
    {
     "data": {
      "image/png": "[encoded data removed]",
      "text/plain": [
       "<Figure size 800x1200 with 1 Axes>"
      ]
     },
     "metadata": {},
     "output_type": "display_data"
    }
   ],
   "source": [
    "ax = data_train.plot()\n",
    "df_prediction.plot(ax=ax, figsize=(8,12))"
   ]
  },
  {
   "cell_type": "markdown",
   "id": "4b6206bd",
   "metadata": {},
   "source": [
    "### visualize prediction and compare actual close price"
   ]
  },
  {
   "cell_type": "code",
   "execution_count": 49,
   "id": "d2a82ccc",
   "metadata": {},
   "outputs": [
    {
     "data": {
      "text/plain": [
       "<AxesSubplot:>"
      ]
     },
     "execution_count": 49,
     "metadata": {},
     "output_type": "execute_result"
    },
    {
     "data": {
      "image/png": "[encoded data removed]",
      "text/plain": [
       "<Figure size 800x1200 with 1 Axes>"
      ]
     },
     "metadata": {},
     "output_type": "display_data"
    }
   ],
   "source": [
    "ax=df.plot()\n",
    "df_prediction.plot(ax=ax, figsize=(8,12))"
   ]
  },
  {
   "cell_type": "markdown",
   "id": "7989eeb5",
   "metadata": {},
   "source": [
    "### Time series data Forecasting with LSTM"
   ]
  },
  {
   "cell_type": "code",
   "execution_count": 50,
   "id": "d8b852f6",
   "metadata": {},
   "outputs": [],
   "source": [
    "full_scaler=MinMaxScaler()\n",
    "normalized_full_data = full_scaler.fit_transform(df)"
   ]
  },
  {
   "cell_type": "code",
   "execution_count": 51,
   "id": "5b4cee62",
   "metadata": {},
   "outputs": [
    {
     "data": {
      "text/plain": [
       "60"
      ]
     },
     "execution_count": 51,
     "metadata": {},
     "output_type": "execute_result"
    }
   ],
   "source": [
    "length60"
   ]
  },
  {
   "cell_type": "code",
   "execution_count": 52,
   "id": "b3691372",
   "metadata": {},
   "outputs": [],
   "source": [
    "forecast_tsGenerator = TimeseriesGenerator(normalized_full_data, normalized_full_data, length=length60, batch_size=batch_size32)"
   ]
  },
  {
   "cell_type": "markdown",
   "id": "79255a7f",
   "metadata": {},
   "source": [
    "### Build, Compile, and Fit LSTM Model for Forecasting"
   ]
  },
  {
   "cell_type": "code",
   "execution_count": 53,
   "id": "8a0260ca",
   "metadata": {},
   "outputs": [
    {
     "name": "stdout",
     "output_type": "stream",
     "text": [
      "Epoch 1/100\n",
      " 1/42 [..............................] - ETA: 3s - loss: 0.0012"
     ]
    },
    {
     "name": "stderr",
     "output_type": "stream",
     "text": [
      "/opt/conda/lib/python3.7/site-packages/ipykernel_launcher.py:1: UserWarning: `Model.fit_generator` is deprecated and will be removed in a future version. Please use `Model.fit`, which supports generators.\n",
      "  \"\"\"Entry point for launching an IPython kernel.\n"
     ]
    },
    {
     "name": "stdout",
     "output_type": "stream",
     "text": [
      "42/42 [==============================] - 3s 74ms/step - loss: 0.0017\n",
      "Epoch 2/100\n",
      "42/42 [==============================] - 3s 73ms/step - loss: 0.0016\n",
      "Epoch 3/100\n",
      "42/42 [==============================] - 3s 72ms/step - loss: 0.0012\n",
      "Epoch 4/100\n",
      "42/42 [==============================] - 3s 71ms/step - loss: 0.0013\n",
      "Epoch 5/100\n",
      "42/42 [==============================] - 3s 71ms/step - loss: 0.0011\n",
      "Epoch 6/100\n",
      "42/42 [==============================] - 3s 75ms/step - loss: 0.0012\n",
      "Epoch 7/100\n",
      "42/42 [==============================] - 3s 71ms/step - loss: 9.7738e-04\n",
      "Epoch 8/100\n",
      "42/42 [==============================] - 3s 69ms/step - loss: 0.0010\n",
      "Epoch 9/100\n",
      "42/42 [==============================] - 3s 69ms/step - loss: 0.0013\n",
      "Epoch 10/100\n",
      "42/42 [==============================] - 3s 70ms/step - loss: 0.0016\n",
      "Epoch 11/100\n",
      "42/42 [==============================] - 3s 69ms/step - loss: 0.0011\n",
      "Epoch 12/100\n",
      "42/42 [==============================] - 3s 69ms/step - loss: 0.0010\n",
      "Epoch 13/100\n",
      "42/42 [==============================] - 3s 70ms/step - loss: 0.0012\n",
      "Epoch 14/100\n",
      "42/42 [==============================] - 3s 69ms/step - loss: 0.0011\n",
      "Epoch 15/100\n",
      "42/42 [==============================] - 3s 69ms/step - loss: 0.0012\n",
      "Epoch 16/100\n",
      "42/42 [==============================] - 3s 68ms/step - loss: 0.0010\n",
      "Epoch 17/100\n",
      "42/42 [==============================] - 3s 69ms/step - loss: 0.0012\n",
      "Epoch 18/100\n",
      "42/42 [==============================] - 3s 70ms/step - loss: 0.0013\n",
      "Epoch 19/100\n",
      "42/42 [==============================] - 3s 68ms/step - loss: 0.0014\n",
      "Epoch 20/100\n",
      "42/42 [==============================] - 3s 69ms/step - loss: 0.0016\n",
      "Epoch 21/100\n",
      "42/42 [==============================] - 3s 69ms/step - loss: 0.0013\n",
      "Epoch 22/100\n",
      "42/42 [==============================] - 3s 69ms/step - loss: 0.0012\n",
      "Epoch 23/100\n",
      "42/42 [==============================] - 3s 70ms/step - loss: 0.0012\n",
      "Epoch 24/100\n",
      "42/42 [==============================] - 3s 68ms/step - loss: 0.0012\n",
      "Epoch 25/100\n",
      "42/42 [==============================] - 3s 74ms/step - loss: 9.7666e-04\n",
      "Epoch 26/100\n",
      "42/42 [==============================] - 3s 72ms/step - loss: 0.0014\n",
      "Epoch 27/100\n",
      "42/42 [==============================] - 3s 68ms/step - loss: 0.0014\n",
      "Epoch 28/100\n",
      "42/42 [==============================] - 3s 67ms/step - loss: 9.8989e-04\n",
      "Epoch 29/100\n",
      "42/42 [==============================] - 3s 68ms/step - loss: 0.0017\n",
      "Epoch 30/100\n",
      "42/42 [==============================] - 3s 68ms/step - loss: 0.0012\n",
      "Epoch 31/100\n",
      "42/42 [==============================] - 3s 68ms/step - loss: 9.7921e-04\n",
      "Epoch 32/100\n",
      "42/42 [==============================] - 3s 70ms/step - loss: 0.0020\n",
      "Epoch 33/100\n",
      "42/42 [==============================] - 3s 68ms/step - loss: 0.0020\n",
      "Epoch 34/100\n",
      "42/42 [==============================] - 3s 69ms/step - loss: 9.6828e-04\n",
      "Epoch 35/100\n",
      "42/42 [==============================] - 3s 68ms/step - loss: 8.8334e-04\n",
      "Epoch 36/100\n",
      "42/42 [==============================] - 3s 67ms/step - loss: 8.5655e-04\n",
      "Epoch 37/100\n",
      "42/42 [==============================] - 3s 67ms/step - loss: 0.0011\n",
      "Epoch 38/100\n",
      "42/42 [==============================] - 3s 67ms/step - loss: 0.0011\n",
      "Epoch 39/100\n",
      "42/42 [==============================] - 3s 67ms/step - loss: 0.0014\n",
      "Epoch 40/100\n",
      "42/42 [==============================] - 3s 66ms/step - loss: 9.5140e-04\n",
      "Epoch 41/100\n",
      "42/42 [==============================] - 3s 66ms/step - loss: 9.3358e-04\n",
      "Epoch 42/100\n",
      "42/42 [==============================] - 3s 68ms/step - loss: 0.0011\n",
      "Epoch 43/100\n",
      "42/42 [==============================] - 3s 70ms/step - loss: 0.0011\n",
      "Epoch 44/100\n",
      "42/42 [==============================] - 3s 71ms/step - loss: 0.0011\n",
      "Epoch 45/100\n",
      "42/42 [==============================] - 3s 68ms/step - loss: 9.5123e-04\n",
      "Epoch 46/100\n",
      "42/42 [==============================] - 3s 69ms/step - loss: 9.3355e-04\n",
      "Epoch 47/100\n",
      "42/42 [==============================] - 3s 68ms/step - loss: 9.8657e-04\n",
      "Epoch 48/100\n",
      "42/42 [==============================] - 3s 67ms/step - loss: 0.0011\n",
      "Epoch 49/100\n",
      "42/42 [==============================] - 3s 67ms/step - loss: 9.9474e-04\n",
      "Epoch 50/100\n",
      "42/42 [==============================] - 3s 69ms/step - loss: 0.0012\n",
      "Epoch 51/100\n",
      "42/42 [==============================] - 3s 67ms/step - loss: 9.1220e-04\n",
      "Epoch 52/100\n",
      "42/42 [==============================] - 3s 67ms/step - loss: 8.7978e-04\n",
      "Epoch 53/100\n",
      "42/42 [==============================] - 3s 67ms/step - loss: 9.5554e-04\n",
      "Epoch 54/100\n",
      "42/42 [==============================] - 3s 67ms/step - loss: 0.0010\n",
      "Epoch 55/100\n",
      "42/42 [==============================] - 3s 68ms/step - loss: 8.6341e-04\n",
      "Epoch 56/100\n",
      "42/42 [==============================] - 3s 67ms/step - loss: 8.3119e-04\n",
      "Epoch 57/100\n",
      "42/42 [==============================] - 3s 67ms/step - loss: 8.5010e-04\n",
      "Epoch 58/100\n",
      "42/42 [==============================] - 3s 67ms/step - loss: 8.3090e-04\n",
      "Epoch 59/100\n",
      "42/42 [==============================] - 3s 67ms/step - loss: 8.5745e-04\n",
      "Epoch 60/100\n",
      "42/42 [==============================] - 3s 67ms/step - loss: 9.7437e-04\n",
      "Epoch 61/100\n",
      "42/42 [==============================] - 3s 66ms/step - loss: 0.0015\n",
      "Epoch 62/100\n",
      "42/42 [==============================] - 3s 67ms/step - loss: 0.0012\n",
      "Epoch 63/100\n",
      "42/42 [==============================] - 3s 73ms/step - loss: 9.1671e-04\n",
      "Epoch 64/100\n",
      "42/42 [==============================] - 3s 65ms/step - loss: 8.1188e-04\n",
      "Epoch 65/100\n",
      "42/42 [==============================] - 3s 67ms/step - loss: 9.5217e-04\n",
      "Epoch 66/100\n",
      "42/42 [==============================] - 3s 67ms/step - loss: 0.0014\n",
      "Epoch 67/100\n",
      "42/42 [==============================] - 3s 67ms/step - loss: 0.0018\n",
      "Epoch 68/100\n",
      "42/42 [==============================] - 3s 67ms/step - loss: 0.0014\n",
      "Epoch 69/100\n",
      "42/42 [==============================] - 3s 66ms/step - loss: 9.2991e-04\n",
      "Epoch 70/100\n",
      "42/42 [==============================] - 3s 66ms/step - loss: 8.5363e-04\n",
      "Epoch 71/100\n",
      "42/42 [==============================] - 3s 66ms/step - loss: 8.7035e-04\n",
      "Epoch 72/100\n",
      "42/42 [==============================] - 3s 65ms/step - loss: 9.3810e-04\n",
      "Epoch 73/100\n",
      "42/42 [==============================] - 3s 65ms/step - loss: 8.8481e-04\n",
      "Epoch 74/100\n",
      "42/42 [==============================] - 3s 64ms/step - loss: 0.0010\n",
      "Epoch 75/100\n",
      "42/42 [==============================] - 3s 64ms/step - loss: 9.8472e-04\n",
      "Epoch 76/100\n",
      "42/42 [==============================] - 3s 63ms/step - loss: 0.0020\n",
      "Epoch 77/100\n",
      "42/42 [==============================] - 3s 63ms/step - loss: 0.0013\n",
      "Epoch 78/100\n",
      "42/42 [==============================] - 3s 62ms/step - loss: 0.0010\n",
      "Epoch 79/100\n",
      "42/42 [==============================] - 3s 64ms/step - loss: 0.0010\n",
      "Epoch 80/100\n",
      "42/42 [==============================] - 3s 63ms/step - loss: 0.0011\n",
      "Epoch 81/100\n",
      "42/42 [==============================] - 3s 63ms/step - loss: 0.0012\n",
      "Epoch 82/100\n",
      "42/42 [==============================] - 3s 64ms/step - loss: 8.2407e-04\n",
      "Epoch 83/100\n",
      "42/42 [==============================] - 3s 69ms/step - loss: 9.2075e-04\n",
      "Epoch 84/100\n",
      "42/42 [==============================] - 3s 64ms/step - loss: 7.4938e-04\n",
      "Epoch 85/100\n",
      "42/42 [==============================] - 3s 64ms/step - loss: 7.7643e-04\n",
      "Epoch 86/100\n",
      "42/42 [==============================] - 3s 65ms/step - loss: 9.3561e-04\n",
      "Epoch 87/100\n",
      "42/42 [==============================] - 3s 64ms/step - loss: 0.0013\n",
      "Epoch 88/100\n",
      "42/42 [==============================] - 3s 64ms/step - loss: 0.0014\n",
      "Epoch 89/100\n",
      "42/42 [==============================] - 3s 64ms/step - loss: 8.3914e-04\n",
      "Epoch 90/100\n",
      "42/42 [==============================] - 3s 64ms/step - loss: 7.6672e-04\n",
      "Epoch 91/100\n",
      "42/42 [==============================] - 3s 63ms/step - loss: 9.1174e-04\n",
      "Epoch 92/100\n",
      "42/42 [==============================] - 3s 64ms/step - loss: 7.6098e-04\n",
      "Epoch 93/100\n",
      "42/42 [==============================] - 3s 63ms/step - loss: 7.5899e-04\n",
      "Epoch 94/100\n",
      "42/42 [==============================] - 3s 63ms/step - loss: 8.3426e-04\n",
      "Epoch 95/100\n",
      "42/42 [==============================] - 3s 64ms/step - loss: 8.0865e-04\n",
      "Epoch 96/100\n",
      "42/42 [==============================] - 3s 64ms/step - loss: 0.0014\n",
      "Epoch 97/100\n",
      "42/42 [==============================] - 3s 64ms/step - loss: 0.0014\n",
      "Epoch 98/100\n",
      "42/42 [==============================] - 3s 63ms/step - loss: 0.0012\n",
      "Epoch 99/100\n",
      "42/42 [==============================] - 3s 64ms/step - loss: 9.9905e-04\n",
      "Epoch 100/100\n",
      "42/42 [==============================] - 3s 62ms/step - loss: 0.0012\n"
     ]
    },
    {
     "data": {
      "text/plain": [
       "<keras.callbacks.History at 0x7fb008734090>"
      ]
     },
     "execution_count": 53,
     "metadata": {},
     "output_type": "execute_result"
    }
   ],
   "source": [
    "model.fit_generator(forecast_tsGenerator, epochs=100)"
   ]
  },
  {
   "cell_type": "code",
   "execution_count": 54,
   "id": "997c24f8",
   "metadata": {},
   "outputs": [
    {
     "name": "stdout",
     "output_type": "stream",
     "text": [
      "1/1 [==============================] - 0s 399ms/step\n",
      "1/1 [==============================] - 0s 33ms/step\n",
      "1/1 [==============================] - 0s 31ms/step\n",
      "1/1 [==============================] - 0s 29ms/step\n",
      "1/1 [==============================] - 0s 30ms/step\n",
      "1/1 [==============================] - 0s 31ms/step\n",
      "1/1 [==============================] - 0s 29ms/step\n",
      "1/1 [==============================] - 0s 29ms/step\n",
      "1/1 [==============================] - 0s 32ms/step\n",
      "1/1 [==============================] - 0s 29ms/step\n",
      "1/1 [==============================] - 0s 31ms/step\n",
      "1/1 [==============================] - 0s 29ms/step\n",
      "1/1 [==============================] - 0s 29ms/step\n",
      "1/1 [==============================] - 0s 28ms/step\n",
      "1/1 [==============================] - 0s 29ms/step\n",
      "1/1 [==============================] - 0s 31ms/step\n",
      "1/1 [==============================] - 0s 29ms/step\n",
      "1/1 [==============================] - 0s 29ms/step\n",
      "1/1 [==============================] - 0s 29ms/step\n",
      "1/1 [==============================] - 0s 30ms/step\n",
      "1/1 [==============================] - 0s 30ms/step\n",
      "1/1 [==============================] - 0s 30ms/step\n",
      "1/1 [==============================] - 0s 30ms/step\n",
      "1/1 [==============================] - 0s 30ms/step\n",
      "1/1 [==============================] - 0s 30ms/step\n",
      "1/1 [==============================] - 0s 29ms/step\n",
      "1/1 [==============================] - 0s 29ms/step\n",
      "1/1 [==============================] - 0s 29ms/step\n",
      "1/1 [==============================] - 0s 30ms/step\n",
      "1/1 [==============================] - 0s 30ms/step\n",
      "1/1 [==============================] - 0s 29ms/step\n",
      "1/1 [==============================] - 0s 29ms/step\n",
      "1/1 [==============================] - 0s 28ms/step\n",
      "1/1 [==============================] - 0s 28ms/step\n",
      "1/1 [==============================] - 0s 31ms/step\n",
      "1/1 [==============================] - 0s 28ms/step\n",
      "1/1 [==============================] - 0s 29ms/step\n",
      "1/1 [==============================] - 0s 28ms/step\n",
      "1/1 [==============================] - 0s 30ms/step\n",
      "1/1 [==============================] - 0s 29ms/step\n",
      "1/1 [==============================] - 0s 29ms/step\n",
      "1/1 [==============================] - 0s 28ms/step\n",
      "1/1 [==============================] - 0s 29ms/step\n",
      "1/1 [==============================] - 0s 29ms/step\n",
      "1/1 [==============================] - 0s 30ms/step\n",
      "1/1 [==============================] - 0s 29ms/step\n",
      "1/1 [==============================] - 0s 30ms/step\n",
      "1/1 [==============================] - 0s 29ms/step\n",
      "1/1 [==============================] - 0s 31ms/step\n",
      "1/1 [==============================] - 0s 28ms/step\n",
      "1/1 [==============================] - 0s 30ms/step\n",
      "1/1 [==============================] - 0s 29ms/step\n",
      "1/1 [==============================] - 0s 29ms/step\n",
      "1/1 [==============================] - 0s 28ms/step\n",
      "1/1 [==============================] - 0s 29ms/step\n",
      "1/1 [==============================] - 0s 27ms/step\n",
      "1/1 [==============================] - 0s 30ms/step\n",
      "1/1 [==============================] - 0s 30ms/step\n",
      "1/1 [==============================] - 0s 29ms/step\n",
      "1/1 [==============================] - 0s 29ms/step\n",
      "1/1 [==============================] - 0s 28ms/step\n",
      "1/1 [==============================] - 0s 30ms/step\n",
      "1/1 [==============================] - 0s 30ms/step\n",
      "1/1 [==============================] - 0s 29ms/step\n",
      "1/1 [==============================] - 0s 29ms/step\n",
      "1/1 [==============================] - 0s 30ms/step\n",
      "1/1 [==============================] - 0s 35ms/step\n",
      "1/1 [==============================] - 0s 33ms/step\n",
      "1/1 [==============================] - 0s 30ms/step\n",
      "1/1 [==============================] - 0s 29ms/step\n",
      "1/1 [==============================] - 0s 29ms/step\n",
      "1/1 [==============================] - 0s 29ms/step\n",
      "1/1 [==============================] - 0s 29ms/step\n",
      "1/1 [==============================] - 0s 30ms/step\n",
      "1/1 [==============================] - 0s 29ms/step\n",
      "1/1 [==============================] - 0s 30ms/step\n",
      "1/1 [==============================] - 0s 30ms/step\n",
      "1/1 [==============================] - 0s 28ms/step\n",
      "1/1 [==============================] - 0s 29ms/step\n",
      "1/1 [==============================] - 0s 28ms/step\n",
      "1/1 [==============================] - 0s 30ms/step\n",
      "1/1 [==============================] - 0s 28ms/step\n",
      "1/1 [==============================] - 0s 28ms/step\n",
      "1/1 [==============================] - 0s 28ms/step\n",
      "1/1 [==============================] - 0s 30ms/step\n",
      "1/1 [==============================] - 0s 30ms/step\n",
      "1/1 [==============================] - 0s 30ms/step\n",
      "1/1 [==============================] - 0s 29ms/step\n",
      "1/1 [==============================] - 0s 30ms/step\n",
      "1/1 [==============================] - 0s 30ms/step\n",
      "1/1 [==============================] - 0s 30ms/step\n",
      "1/1 [==============================] - 0s 29ms/step\n",
      "1/1 [==============================] - 0s 29ms/step\n",
      "1/1 [==============================] - 0s 29ms/step\n",
      "1/1 [==============================] - 0s 30ms/step\n",
      "1/1 [==============================] - 0s 30ms/step\n",
      "1/1 [==============================] - 0s 29ms/step\n",
      "1/1 [==============================] - 0s 29ms/step\n",
      "1/1 [==============================] - 0s 30ms/step\n",
      "1/1 [==============================] - 0s 28ms/step\n",
      "1/1 [==============================] - 0s 29ms/step\n",
      "1/1 [==============================] - 0s 28ms/step\n",
      "1/1 [==============================] - 0s 30ms/step\n",
      "1/1 [==============================] - 0s 29ms/step\n",
      "1/1 [==============================] - 0s 30ms/step\n",
      "1/1 [==============================] - 0s 30ms/step\n",
      "1/1 [==============================] - 0s 29ms/step\n"
     ]
    }
   ],
   "source": [
    "forecast = []\n",
    "periods = 107\n",
    "first_eval_batch = normalized_full_data[-length60:]\n",
    "current_batch = first_eval_batch.reshape((1,length60,n_features))\n",
    "for i in range(periods):\n",
    "    current_pred = model.predict(current_batch)[0]\n",
    "    forecast.append(current_pred)\n",
    "    current_batch=np.append(current_batch[:,1:,:],[[current_pred]],axis=1)"
   ]
  },
  {
   "cell_type": "code",
   "execution_count": 55,
   "id": "db8e1089",
   "metadata": {},
   "outputs": [
    {
     "data": {
      "text/plain": [
       "array([[50.54019022],\n",
       "       [50.80206916],\n",
       "       [51.15319716],\n",
       "       [51.5255259 ],\n",
       "       [51.88727702],\n",
       "       [52.22792554],\n",
       "       [52.54736614],\n",
       "       [52.84924758],\n",
       "       [53.13710133],\n",
       "       [53.41313485],\n",
       "       [53.67831063],\n",
       "       [53.93284413],\n",
       "       [54.17666352],\n",
       "       [54.40970897],\n",
       "       [54.63201637],\n",
       "       [54.84374614],\n",
       "       [55.04515685],\n",
       "       [55.23652385],\n",
       "       [55.41817992],\n",
       "       [55.59045547],\n",
       "       [55.75368089],\n",
       "       [55.90818659],\n",
       "       [56.05431495],\n",
       "       [56.19240114],\n",
       "       [56.32277558],\n",
       "       [56.44577345],\n",
       "       [56.56172276],\n",
       "       [56.67094672],\n",
       "       [56.77375899],\n",
       "       [56.87047798],\n",
       "       [56.96140777],\n",
       "       [57.04683805],\n",
       "       [57.12705374],\n",
       "       [57.20233257],\n",
       "       [57.27294028],\n",
       "       [57.33913307],\n",
       "       [57.40115993],\n",
       "       [57.45925549],\n",
       "       [57.51364002],\n",
       "       [57.56453379],\n",
       "       [57.61215707],\n",
       "       [57.65668942],\n",
       "       [57.69832716],\n",
       "       [57.7372379 ],\n",
       "       [57.77359641],\n",
       "       [57.80755592],\n",
       "       [57.83926247],\n",
       "       [57.86886691],\n",
       "       [57.89649372],\n",
       "       [57.92227939],\n",
       "       [57.94633643],\n",
       "       [57.96877739],\n",
       "       [57.9897028 ],\n",
       "       [58.00921803],\n",
       "       [58.02741404],\n",
       "       [58.04437464],\n",
       "       [58.06017644],\n",
       "       [58.07491042],\n",
       "       [58.08862926],\n",
       "       [58.10141914],\n",
       "       [58.11332795],\n",
       "       [58.12442752],\n",
       "       [58.13476573],\n",
       "       [58.14439525],\n",
       "       [58.15335439],\n",
       "       [58.16170541],\n",
       "       [58.16947702],\n",
       "       [58.17671712],\n",
       "       [58.18345443],\n",
       "       [58.18972727],\n",
       "       [58.19556915],\n",
       "       [58.20100401],\n",
       "       [58.20606537],\n",
       "       [58.21077239],\n",
       "       [58.2151538 ],\n",
       "       [58.21923833],\n",
       "       [58.22303555],\n",
       "       [58.22656941],\n",
       "       [58.22985427],\n",
       "       [58.23291407],\n",
       "       [58.23575839],\n",
       "       [58.23841118],\n",
       "       [58.24087243],\n",
       "       [58.24316609],\n",
       "       [58.24530172],\n",
       "       [58.24728892],\n",
       "       [58.24913246],\n",
       "       [58.25085151],\n",
       "       [58.25245084],\n",
       "       [58.25394004],\n",
       "       [58.25531911],\n",
       "       [58.25661198],\n",
       "       [58.2578043 ],\n",
       "       [58.25892   ],\n",
       "       [58.2599543 ],\n",
       "       [58.26091678],\n",
       "       [58.26181221],\n",
       "       [58.26265019],\n",
       "       [58.2634307 ],\n",
       "       [58.26414896],\n",
       "       [58.26482413],\n",
       "       [58.26544663],\n",
       "       [58.26603081],\n",
       "       [58.26656712],\n",
       "       [58.26707469],\n",
       "       [58.26753917],\n",
       "       [58.26797491]])"
      ]
     },
     "execution_count": 55,
     "metadata": {},
     "output_type": "execute_result"
    }
   ],
   "source": [
    "forecast = full_scaler.inverse_transform(forecast)\n",
    "forecast"
   ]
  },
  {
   "cell_type": "code",
   "execution_count": 56,
   "id": "91041802",
   "metadata": {},
   "outputs": [
    {
     "data": {
      "text/html": [
       "<div>\n",
       "<style scoped>\n",
       "    .dataframe tbody tr th:only-of-type {\n",
       "        vertical-align: middle;\n",
       "    }\n",
       "\n",
       "    .dataframe tbody tr th {\n",
       "        vertical-align: top;\n",
       "    }\n",
       "\n",
       "    .dataframe thead th {\n",
       "        text-align: right;\n",
       "    }\n",
       "</style>\n",
       "<table border=\"1\" class=\"dataframe\">\n",
       "  <thead>\n",
       "    <tr style=\"text-align: right;\">\n",
       "      <th></th>\n",
       "      <th>Close</th>\n",
       "    </tr>\n",
       "  </thead>\n",
       "  <tbody>\n",
       "    <tr>\n",
       "      <th>0</th>\n",
       "      <td>19.754642</td>\n",
       "    </tr>\n",
       "    <tr>\n",
       "      <th>1</th>\n",
       "      <td>19.320715</td>\n",
       "    </tr>\n",
       "    <tr>\n",
       "      <th>2</th>\n",
       "      <td>19.426071</td>\n",
       "    </tr>\n",
       "    <tr>\n",
       "      <th>3</th>\n",
       "      <td>19.287144</td>\n",
       "    </tr>\n",
       "    <tr>\n",
       "      <th>4</th>\n",
       "      <td>19.409286</td>\n",
       "    </tr>\n",
       "    <tr>\n",
       "      <th>...</th>\n",
       "      <td>...</td>\n",
       "    </tr>\n",
       "    <tr>\n",
       "      <th>1377</th>\n",
       "      <td>49.645000</td>\n",
       "    </tr>\n",
       "    <tr>\n",
       "      <th>1378</th>\n",
       "      <td>48.892502</td>\n",
       "    </tr>\n",
       "    <tr>\n",
       "      <th>1379</th>\n",
       "      <td>49.950001</td>\n",
       "    </tr>\n",
       "    <tr>\n",
       "      <th>1380</th>\n",
       "      <td>49.935001</td>\n",
       "    </tr>\n",
       "    <tr>\n",
       "      <th>1381</th>\n",
       "      <td>49.480000</td>\n",
       "    </tr>\n",
       "  </tbody>\n",
       "</table>\n",
       "<p>1382 rows × 1 columns</p>\n",
       "</div>"
      ],
      "text/plain": [
       "          Close\n",
       "0     19.754642\n",
       "1     19.320715\n",
       "2     19.426071\n",
       "3     19.287144\n",
       "4     19.409286\n",
       "...         ...\n",
       "1377  49.645000\n",
       "1378  48.892502\n",
       "1379  49.950001\n",
       "1380  49.935001\n",
       "1381  49.480000\n",
       "\n",
       "[1382 rows x 1 columns]"
      ]
     },
     "execution_count": 56,
     "metadata": {},
     "output_type": "execute_result"
    }
   ],
   "source": [
    "df"
   ]
  },
  {
   "cell_type": "code",
   "execution_count": 57,
   "id": "35c5effd",
   "metadata": {},
   "outputs": [],
   "source": [
    "forecast_index=np.arange(1382,1489,step=1)\n"
   ]
  },
  {
   "cell_type": "code",
   "execution_count": 58,
   "id": "55369b1e",
   "metadata": {},
   "outputs": [],
   "source": [
    "forecast_df = pd.DataFrame(data=forecast,index=forecast_index,columns=['Forecast'])"
   ]
  },
  {
   "cell_type": "code",
   "execution_count": 59,
   "id": "aea95612",
   "metadata": {},
   "outputs": [
    {
     "data": {
      "text/html": [
       "<div>\n",
       "<style scoped>\n",
       "    .dataframe tbody tr th:only-of-type {\n",
       "        vertical-align: middle;\n",
       "    }\n",
       "\n",
       "    .dataframe tbody tr th {\n",
       "        vertical-align: top;\n",
       "    }\n",
       "\n",
       "    .dataframe thead th {\n",
       "        text-align: right;\n",
       "    }\n",
       "</style>\n",
       "<table border=\"1\" class=\"dataframe\">\n",
       "  <thead>\n",
       "    <tr style=\"text-align: right;\">\n",
       "      <th></th>\n",
       "      <th>Forecast</th>\n",
       "    </tr>\n",
       "  </thead>\n",
       "  <tbody>\n",
       "    <tr>\n",
       "      <th>1382</th>\n",
       "      <td>50.540190</td>\n",
       "    </tr>\n",
       "    <tr>\n",
       "      <th>1383</th>\n",
       "      <td>50.802069</td>\n",
       "    </tr>\n",
       "    <tr>\n",
       "      <th>1384</th>\n",
       "      <td>51.153197</td>\n",
       "    </tr>\n",
       "    <tr>\n",
       "      <th>1385</th>\n",
       "      <td>51.525526</td>\n",
       "    </tr>\n",
       "    <tr>\n",
       "      <th>1386</th>\n",
       "      <td>51.887277</td>\n",
       "    </tr>\n",
       "    <tr>\n",
       "      <th>...</th>\n",
       "      <td>...</td>\n",
       "    </tr>\n",
       "    <tr>\n",
       "      <th>1484</th>\n",
       "      <td>58.266031</td>\n",
       "    </tr>\n",
       "    <tr>\n",
       "      <th>1485</th>\n",
       "      <td>58.266567</td>\n",
       "    </tr>\n",
       "    <tr>\n",
       "      <th>1486</th>\n",
       "      <td>58.267075</td>\n",
       "    </tr>\n",
       "    <tr>\n",
       "      <th>1487</th>\n",
       "      <td>58.267539</td>\n",
       "    </tr>\n",
       "    <tr>\n",
       "      <th>1488</th>\n",
       "      <td>58.267975</td>\n",
       "    </tr>\n",
       "  </tbody>\n",
       "</table>\n",
       "<p>107 rows × 1 columns</p>\n",
       "</div>"
      ],
      "text/plain": [
       "       Forecast\n",
       "1382  50.540190\n",
       "1383  50.802069\n",
       "1384  51.153197\n",
       "1385  51.525526\n",
       "1386  51.887277\n",
       "...         ...\n",
       "1484  58.266031\n",
       "1485  58.266567\n",
       "1486  58.267075\n",
       "1487  58.267539\n",
       "1488  58.267975\n",
       "\n",
       "[107 rows x 1 columns]"
      ]
     },
     "execution_count": 59,
     "metadata": {},
     "output_type": "execute_result"
    }
   ],
   "source": [
    "forecast_df"
   ]
  },
  {
   "cell_type": "code",
   "execution_count": 60,
   "id": "42a13f9f",
   "metadata": {},
   "outputs": [
    {
     "data": {
      "text/plain": [
       "<AxesSubplot:>"
      ]
     },
     "execution_count": 60,
     "metadata": {},
     "output_type": "execute_result"
    },
    {
     "data": {
      "image/png": "[encoded data removed]",
      "text/plain": [
       "<Figure size 640x480 with 1 Axes>"
      ]
     },
     "metadata": {},
     "output_type": "display_data"
    },
    {
     "data": {
      "image/png": "[encoded data removed]",
      "text/plain": [
       "<Figure size 640x480 with 1 Axes>"
      ]
     },
     "metadata": {},
     "output_type": "display_data"
    }
   ],
   "source": [
    "df.plot()\n",
    "forecast_df.plot()"
   ]
  },
  {
   "cell_type": "code",
   "execution_count": 61,
   "id": "d8276b7f",
   "metadata": {},
   "outputs": [
    {
     "data": {
      "text/plain": [
       "<AxesSubplot:>"
      ]
     },
     "execution_count": 61,
     "metadata": {},
     "output_type": "execute_result"
    },
    {
     "data": {
      "image/png": "[encoded data removed]",
      "text/plain": [
       "<Figure size 1200x800 with 1 Axes>"
      ]
     },
     "metadata": {},
     "output_type": "display_data"
    }
   ],
   "source": [
    "ax=df.plot()\n",
    "forecast_df.plot(ax=ax, figsize=(12,8))"
   ]
  },
  {
   "cell_type": "code",
   "execution_count": 72,
   "id": "541ebb4f",
   "metadata": {},
   "outputs": [],
   "source": [
    "dir_path_dataset_2 = 'DATA/APPL_stock_20190701_20191215.csv'"
   ]
  },
  {
   "cell_type": "code",
   "execution_count": 73,
   "id": "e8ae75e0",
   "metadata": {},
   "outputs": [],
   "source": [
    "df_ALL_JUL_DEC_2019 = pd.read_csv(dir_path_dataset_2)\n"
   ]
  },
  {
   "cell_type": "code",
   "execution_count": 74,
   "id": "b545d34c",
   "metadata": {},
   "outputs": [
    {
     "data": {
      "text/html": [
       "<div>\n",
       "<style scoped>\n",
       "    .dataframe tbody tr th:only-of-type {\n",
       "        vertical-align: middle;\n",
       "    }\n",
       "\n",
       "    .dataframe tbody tr th {\n",
       "        vertical-align: top;\n",
       "    }\n",
       "\n",
       "    .dataframe thead th {\n",
       "        text-align: right;\n",
       "    }\n",
       "</style>\n",
       "<table border=\"1\" class=\"dataframe\">\n",
       "  <thead>\n",
       "    <tr style=\"text-align: right;\">\n",
       "      <th></th>\n",
       "      <th>Date</th>\n",
       "      <th>Open</th>\n",
       "      <th>High</th>\n",
       "      <th>Low</th>\n",
       "      <th>Close</th>\n",
       "      <th>Adj Close</th>\n",
       "      <th>Volume</th>\n",
       "    </tr>\n",
       "  </thead>\n",
       "  <tbody>\n",
       "    <tr>\n",
       "      <th>0</th>\n",
       "      <td>7/1/2019</td>\n",
       "      <td>50.792500</td>\n",
       "      <td>51.122501</td>\n",
       "      <td>50.162498</td>\n",
       "      <td>50.387501</td>\n",
       "      <td>48.756935</td>\n",
       "      <td>109012000</td>\n",
       "    </tr>\n",
       "    <tr>\n",
       "      <th>1</th>\n",
       "      <td>7/2/2019</td>\n",
       "      <td>50.352501</td>\n",
       "      <td>50.782501</td>\n",
       "      <td>50.340000</td>\n",
       "      <td>50.682499</td>\n",
       "      <td>49.042381</td>\n",
       "      <td>67740800</td>\n",
       "    </tr>\n",
       "    <tr>\n",
       "      <th>2</th>\n",
       "      <td>7/3/2019</td>\n",
       "      <td>50.820000</td>\n",
       "      <td>51.110001</td>\n",
       "      <td>50.672501</td>\n",
       "      <td>51.102501</td>\n",
       "      <td>49.448792</td>\n",
       "      <td>45448000</td>\n",
       "    </tr>\n",
       "    <tr>\n",
       "      <th>3</th>\n",
       "      <td>7/5/2019</td>\n",
       "      <td>50.837502</td>\n",
       "      <td>51.270000</td>\n",
       "      <td>50.724998</td>\n",
       "      <td>51.057499</td>\n",
       "      <td>49.405251</td>\n",
       "      <td>69062000</td>\n",
       "    </tr>\n",
       "    <tr>\n",
       "      <th>4</th>\n",
       "      <td>7/8/2019</td>\n",
       "      <td>50.202499</td>\n",
       "      <td>50.349998</td>\n",
       "      <td>49.602501</td>\n",
       "      <td>50.005001</td>\n",
       "      <td>48.386806</td>\n",
       "      <td>101354400</td>\n",
       "    </tr>\n",
       "    <tr>\n",
       "      <th>...</th>\n",
       "      <td>...</td>\n",
       "      <td>...</td>\n",
       "      <td>...</td>\n",
       "      <td>...</td>\n",
       "      <td>...</td>\n",
       "      <td>...</td>\n",
       "      <td>...</td>\n",
       "    </tr>\n",
       "    <tr>\n",
       "      <th>102</th>\n",
       "      <td>11/22/2019</td>\n",
       "      <td>65.647499</td>\n",
       "      <td>65.794998</td>\n",
       "      <td>65.209999</td>\n",
       "      <td>65.445000</td>\n",
       "      <td>63.758602</td>\n",
       "      <td>65325200</td>\n",
       "    </tr>\n",
       "    <tr>\n",
       "      <th>103</th>\n",
       "      <td>11/25/2019</td>\n",
       "      <td>65.677498</td>\n",
       "      <td>66.610001</td>\n",
       "      <td>65.629997</td>\n",
       "      <td>66.592499</td>\n",
       "      <td>64.876541</td>\n",
       "      <td>84020400</td>\n",
       "    </tr>\n",
       "    <tr>\n",
       "      <th>104</th>\n",
       "      <td>11/26/2019</td>\n",
       "      <td>66.735001</td>\n",
       "      <td>66.790001</td>\n",
       "      <td>65.625000</td>\n",
       "      <td>66.072502</td>\n",
       "      <td>64.369965</td>\n",
       "      <td>105207600</td>\n",
       "    </tr>\n",
       "    <tr>\n",
       "      <th>105</th>\n",
       "      <td>11/27/2019</td>\n",
       "      <td>66.394997</td>\n",
       "      <td>66.995003</td>\n",
       "      <td>66.327499</td>\n",
       "      <td>66.959999</td>\n",
       "      <td>65.234566</td>\n",
       "      <td>65235600</td>\n",
       "    </tr>\n",
       "    <tr>\n",
       "      <th>106</th>\n",
       "      <td>11/29/2019</td>\n",
       "      <td>66.650002</td>\n",
       "      <td>67.000000</td>\n",
       "      <td>66.474998</td>\n",
       "      <td>66.812500</td>\n",
       "      <td>65.090881</td>\n",
       "      <td>46617600</td>\n",
       "    </tr>\n",
       "  </tbody>\n",
       "</table>\n",
       "<p>107 rows × 7 columns</p>\n",
       "</div>"
      ],
      "text/plain": [
       "           Date       Open       High        Low      Close  Adj Close  \\\n",
       "0      7/1/2019  50.792500  51.122501  50.162498  50.387501  48.756935   \n",
       "1      7/2/2019  50.352501  50.782501  50.340000  50.682499  49.042381   \n",
       "2      7/3/2019  50.820000  51.110001  50.672501  51.102501  49.448792   \n",
       "3      7/5/2019  50.837502  51.270000  50.724998  51.057499  49.405251   \n",
       "4      7/8/2019  50.202499  50.349998  49.602501  50.005001  48.386806   \n",
       "..          ...        ...        ...        ...        ...        ...   \n",
       "102  11/22/2019  65.647499  65.794998  65.209999  65.445000  63.758602   \n",
       "103  11/25/2019  65.677498  66.610001  65.629997  66.592499  64.876541   \n",
       "104  11/26/2019  66.735001  66.790001  65.625000  66.072502  64.369965   \n",
       "105  11/27/2019  66.394997  66.995003  66.327499  66.959999  65.234566   \n",
       "106  11/29/2019  66.650002  67.000000  66.474998  66.812500  65.090881   \n",
       "\n",
       "        Volume  \n",
       "0    109012000  \n",
       "1     67740800  \n",
       "2     45448000  \n",
       "3     69062000  \n",
       "4    101354400  \n",
       "..         ...  \n",
       "102   65325200  \n",
       "103   84020400  \n",
       "104  105207600  \n",
       "105   65235600  \n",
       "106   46617600  \n",
       "\n",
       "[107 rows x 7 columns]"
      ]
     },
     "execution_count": 74,
     "metadata": {},
     "output_type": "execute_result"
    }
   ],
   "source": [
    "df_ALL_JUL_DEC_2019"
   ]
  },
  {
   "cell_type": "code",
   "execution_count": 75,
   "id": "d434679b",
   "metadata": {},
   "outputs": [],
   "source": [
    "df_JUL_DEC_2019=df_ALL_JUL_DEC_2019.iloc[:,4:5]"
   ]
  },
  {
   "cell_type": "code",
   "execution_count": 76,
   "id": "5fcb2ae6",
   "metadata": {},
   "outputs": [
    {
     "data": {
      "text/html": [
       "<div>\n",
       "<style scoped>\n",
       "    .dataframe tbody tr th:only-of-type {\n",
       "        vertical-align: middle;\n",
       "    }\n",
       "\n",
       "    .dataframe tbody tr th {\n",
       "        vertical-align: top;\n",
       "    }\n",
       "\n",
       "    .dataframe thead th {\n",
       "        text-align: right;\n",
       "    }\n",
       "</style>\n",
       "<table border=\"1\" class=\"dataframe\">\n",
       "  <thead>\n",
       "    <tr style=\"text-align: right;\">\n",
       "      <th></th>\n",
       "      <th>Close</th>\n",
       "    </tr>\n",
       "  </thead>\n",
       "  <tbody>\n",
       "    <tr>\n",
       "      <th>0</th>\n",
       "      <td>50.387501</td>\n",
       "    </tr>\n",
       "    <tr>\n",
       "      <th>1</th>\n",
       "      <td>50.682499</td>\n",
       "    </tr>\n",
       "    <tr>\n",
       "      <th>2</th>\n",
       "      <td>51.102501</td>\n",
       "    </tr>\n",
       "    <tr>\n",
       "      <th>3</th>\n",
       "      <td>51.057499</td>\n",
       "    </tr>\n",
       "    <tr>\n",
       "      <th>4</th>\n",
       "      <td>50.005001</td>\n",
       "    </tr>\n",
       "    <tr>\n",
       "      <th>...</th>\n",
       "      <td>...</td>\n",
       "    </tr>\n",
       "    <tr>\n",
       "      <th>102</th>\n",
       "      <td>65.445000</td>\n",
       "    </tr>\n",
       "    <tr>\n",
       "      <th>103</th>\n",
       "      <td>66.592499</td>\n",
       "    </tr>\n",
       "    <tr>\n",
       "      <th>104</th>\n",
       "      <td>66.072502</td>\n",
       "    </tr>\n",
       "    <tr>\n",
       "      <th>105</th>\n",
       "      <td>66.959999</td>\n",
       "    </tr>\n",
       "    <tr>\n",
       "      <th>106</th>\n",
       "      <td>66.812500</td>\n",
       "    </tr>\n",
       "  </tbody>\n",
       "</table>\n",
       "<p>107 rows × 1 columns</p>\n",
       "</div>"
      ],
      "text/plain": [
       "         Close\n",
       "0    50.387501\n",
       "1    50.682499\n",
       "2    51.102501\n",
       "3    51.057499\n",
       "4    50.005001\n",
       "..         ...\n",
       "102  65.445000\n",
       "103  66.592499\n",
       "104  66.072502\n",
       "105  66.959999\n",
       "106  66.812500\n",
       "\n",
       "[107 rows x 1 columns]"
      ]
     },
     "execution_count": 76,
     "metadata": {},
     "output_type": "execute_result"
    }
   ],
   "source": [
    "df_JUL_DEC_2019"
   ]
  },
  {
   "cell_type": "code",
   "execution_count": 77,
   "id": "6e6fd3b5",
   "metadata": {},
   "outputs": [
    {
     "data": {
      "text/plain": [
       "<AxesSubplot:>"
      ]
     },
     "execution_count": 77,
     "metadata": {},
     "output_type": "execute_result"
    },
    {
     "data": {
      "image/png": "[encoded data removed]",
      "text/plain": [
       "<Figure size 640x480 with 1 Axes>"
      ]
     },
     "metadata": {},
     "output_type": "display_data"
    }
   ],
   "source": [
    "df_JUL_DEC_2019.plot()"
   ]
  },
  {
   "cell_type": "code",
   "execution_count": 78,
   "id": "2acfeed7",
   "metadata": {},
   "outputs": [
    {
     "data": {
      "text/plain": [
       "array([50.54019022, 50.80206916, 51.15319716, 51.5255259 , 51.88727702,\n",
       "       52.22792554, 52.54736614, 52.84924758, 53.13710133, 53.41313485,\n",
       "       53.67831063, 53.93284413, 54.17666352, 54.40970897, 54.63201637,\n",
       "       54.84374614, 55.04515685, 55.23652385, 55.41817992, 55.59045547,\n",
       "       55.75368089, 55.90818659, 56.05431495, 56.19240114, 56.32277558,\n",
       "       56.44577345, 56.56172276, 56.67094672, 56.77375899, 56.87047798,\n",
       "       56.96140777, 57.04683805, 57.12705374, 57.20233257, 57.27294028,\n",
       "       57.33913307, 57.40115993, 57.45925549, 57.51364002, 57.56453379,\n",
       "       57.61215707, 57.65668942, 57.69832716, 57.7372379 , 57.77359641,\n",
       "       57.80755592, 57.83926247, 57.86886691, 57.89649372, 57.92227939,\n",
       "       57.94633643, 57.96877739, 57.9897028 , 58.00921803, 58.02741404,\n",
       "       58.04437464, 58.06017644, 58.07491042, 58.08862926, 58.10141914,\n",
       "       58.11332795, 58.12442752, 58.13476573, 58.14439525, 58.15335439,\n",
       "       58.16170541, 58.16947702, 58.17671712, 58.18345443, 58.18972727,\n",
       "       58.19556915, 58.20100401, 58.20606537, 58.21077239, 58.2151538 ,\n",
       "       58.21923833, 58.22303555, 58.22656941, 58.22985427, 58.23291407,\n",
       "       58.23575839, 58.23841118, 58.24087243, 58.24316609, 58.24530172,\n",
       "       58.24728892, 58.24913246, 58.25085151, 58.25245084, 58.25394004,\n",
       "       58.25531911, 58.25661198, 58.2578043 , 58.25892   , 58.2599543 ,\n",
       "       58.26091678, 58.26181221, 58.26265019, 58.2634307 , 58.26414896,\n",
       "       58.26482413, 58.26544663, 58.26603081, 58.26656712, 58.26707469,\n",
       "       58.26753917, 58.26797491])"
      ]
     },
     "execution_count": 78,
     "metadata": {},
     "output_type": "execute_result"
    }
   ],
   "source": [
    "forecast_df['Forecast'].values"
   ]
  },
  {
   "cell_type": "code",
   "execution_count": 79,
   "id": "7826b05a",
   "metadata": {},
   "outputs": [],
   "source": [
    "df_JUL_DEC_2019['Forecast']=forecast_df['Forecast'].values"
   ]
  },
  {
   "cell_type": "code",
   "execution_count": 82,
   "id": "c8b3219f",
   "metadata": {},
   "outputs": [
    {
     "data": {
      "text/html": [
       "<div>\n",
       "<style scoped>\n",
       "    .dataframe tbody tr th:only-of-type {\n",
       "        vertical-align: middle;\n",
       "    }\n",
       "\n",
       "    .dataframe tbody tr th {\n",
       "        vertical-align: top;\n",
       "    }\n",
       "\n",
       "    .dataframe thead th {\n",
       "        text-align: right;\n",
       "    }\n",
       "</style>\n",
       "<table border=\"1\" class=\"dataframe\">\n",
       "  <thead>\n",
       "    <tr style=\"text-align: right;\">\n",
       "      <th></th>\n",
       "      <th>Close</th>\n",
       "      <th>Forecast</th>\n",
       "    </tr>\n",
       "  </thead>\n",
       "  <tbody>\n",
       "    <tr>\n",
       "      <th>0</th>\n",
       "      <td>50.387501</td>\n",
       "      <td>50.540190</td>\n",
       "    </tr>\n",
       "    <tr>\n",
       "      <th>1</th>\n",
       "      <td>50.682499</td>\n",
       "      <td>50.802069</td>\n",
       "    </tr>\n",
       "    <tr>\n",
       "      <th>2</th>\n",
       "      <td>51.102501</td>\n",
       "      <td>51.153197</td>\n",
       "    </tr>\n",
       "    <tr>\n",
       "      <th>3</th>\n",
       "      <td>51.057499</td>\n",
       "      <td>51.525526</td>\n",
       "    </tr>\n",
       "    <tr>\n",
       "      <th>4</th>\n",
       "      <td>50.005001</td>\n",
       "      <td>51.887277</td>\n",
       "    </tr>\n",
       "    <tr>\n",
       "      <th>...</th>\n",
       "      <td>...</td>\n",
       "      <td>...</td>\n",
       "    </tr>\n",
       "    <tr>\n",
       "      <th>102</th>\n",
       "      <td>65.445000</td>\n",
       "      <td>58.266031</td>\n",
       "    </tr>\n",
       "    <tr>\n",
       "      <th>103</th>\n",
       "      <td>66.592499</td>\n",
       "      <td>58.266567</td>\n",
       "    </tr>\n",
       "    <tr>\n",
       "      <th>104</th>\n",
       "      <td>66.072502</td>\n",
       "      <td>58.267075</td>\n",
       "    </tr>\n",
       "    <tr>\n",
       "      <th>105</th>\n",
       "      <td>66.959999</td>\n",
       "      <td>58.267539</td>\n",
       "    </tr>\n",
       "    <tr>\n",
       "      <th>106</th>\n",
       "      <td>66.812500</td>\n",
       "      <td>58.267975</td>\n",
       "    </tr>\n",
       "  </tbody>\n",
       "</table>\n",
       "<p>107 rows × 2 columns</p>\n",
       "</div>"
      ],
      "text/plain": [
       "         Close   Forecast\n",
       "0    50.387501  50.540190\n",
       "1    50.682499  50.802069\n",
       "2    51.102501  51.153197\n",
       "3    51.057499  51.525526\n",
       "4    50.005001  51.887277\n",
       "..         ...        ...\n",
       "102  65.445000  58.266031\n",
       "103  66.592499  58.266567\n",
       "104  66.072502  58.267075\n",
       "105  66.959999  58.267539\n",
       "106  66.812500  58.267975\n",
       "\n",
       "[107 rows x 2 columns]"
      ]
     },
     "execution_count": 82,
     "metadata": {},
     "output_type": "execute_result"
    }
   ],
   "source": [
    "df_JUL_DEC_2019"
   ]
  },
  {
   "cell_type": "code",
   "execution_count": 83,
   "id": "5099555f",
   "metadata": {},
   "outputs": [
    {
     "data": {
      "text/plain": [
       "<AxesSubplot:>"
      ]
     },
     "execution_count": 83,
     "metadata": {},
     "output_type": "execute_result"
    },
    {
     "data": {
      "image/png": "[encoded data removed]",
      "text/plain": [
       "<Figure size 640x480 with 1 Axes>"
      ]
     },
     "metadata": {},
     "output_type": "display_data"
    }
   ],
   "source": [
    "df_JUL_DEC_2019.plot()"
   ]
  },
  {
   "cell_type": "code",
   "execution_count": null,
   "id": "7efc4208",
   "metadata": {},
   "outputs": [],
   "source": []
  }
 ],
 "metadata": {
  "kernelspec": {
   "display_name": "Python 3",
   "language": "python",
   "name": "python3"
  },
  "language_info": {
   "codemirror_mode": {
    "name": "ipython",
    "version": 3
   },
   "file_extension": ".py",
   "mimetype": "text/x-python",
   "name": "python",
   "nbconvert_exporter": "python",
   "pygments_lexer": "ipython3",
   "version": "3.7.12"
  }
 },
 "nbformat": 4,
 "nbformat_minor": 5
}
